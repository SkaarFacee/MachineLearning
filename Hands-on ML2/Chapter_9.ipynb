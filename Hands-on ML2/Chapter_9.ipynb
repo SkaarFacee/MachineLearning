{
  "nbformat": 4,
  "nbformat_minor": 0,
  "metadata": {
    "colab": {
      "name": "Chapter 9.ipynb",
      "provenance": [],
      "collapsed_sections": []
    },
    "kernelspec": {
      "display_name": "Python 3",
      "name": "python3"
    },
    "language_info": {
      "name": "python"
    }
  },
  "cells": [
    {
      "cell_type": "markdown",
      "metadata": {
        "id": "u0vvGRGpjhxU"
      },
      "source": [
        "# K means "
      ]
    },
    {
      "cell_type": "code",
      "metadata": {
        "id": "MLw7XeohpsFe"
      },
      "source": [
        "from sklearn.cluster import KMeans"
      ],
      "execution_count": null,
      "outputs": []
    },
    {
      "cell_type": "code",
      "metadata": {
        "id": "P8GCQpQZqCbC"
      },
      "source": [
        "from sklearn import datasets\n",
        "iris = datasets.load_iris()\n",
        "X = iris.data  # we only take the first two features.\n",
        "y = iris.target"
      ],
      "execution_count": null,
      "outputs": []
    },
    {
      "cell_type": "code",
      "metadata": {
        "id": "iXPCt4zIpzWW"
      },
      "source": [
        "k =3\n",
        "kmeans=KMeans(k)\n",
        "y_pred=kmeans.fit_predict(X)"
      ],
      "execution_count": null,
      "outputs": []
    },
    {
      "cell_type": "code",
      "metadata": {
        "colab": {
          "base_uri": "https://localhost:8080/"
        },
        "id": "ZPs-ftQ_qBg0",
        "outputId": "9dbef41b-848d-4d47-c00b-9274e3964f7a"
      },
      "source": [
        "y_pred"
      ],
      "execution_count": null,
      "outputs": [
        {
          "output_type": "execute_result",
          "data": {
            "text/plain": [
              "array([0, 0, 0, 0, 0, 0, 0, 0, 0, 0, 0, 0, 0, 0, 0, 0, 0, 0, 0, 0, 0, 0,\n",
              "       0, 0, 0, 0, 0, 0, 0, 0, 0, 0, 0, 0, 0, 0, 0, 0, 0, 0, 0, 0, 0, 0,\n",
              "       0, 0, 0, 0, 0, 0, 1, 1, 2, 1, 1, 1, 1, 1, 1, 1, 1, 1, 1, 1, 1, 1,\n",
              "       1, 1, 1, 1, 1, 1, 1, 1, 1, 1, 1, 2, 1, 1, 1, 1, 1, 1, 1, 1, 1, 1,\n",
              "       1, 1, 1, 1, 1, 1, 1, 1, 1, 1, 1, 1, 2, 1, 2, 2, 2, 2, 1, 2, 2, 2,\n",
              "       2, 2, 2, 1, 1, 2, 2, 2, 2, 1, 2, 1, 2, 1, 2, 2, 1, 1, 2, 2, 2, 2,\n",
              "       2, 1, 2, 2, 2, 2, 1, 2, 2, 2, 1, 2, 2, 2, 1, 2, 2, 1], dtype=int32)"
            ]
          },
          "metadata": {
            "tags": []
          },
          "execution_count": 4
        }
      ]
    },
    {
      "cell_type": "code",
      "metadata": {
        "colab": {
          "base_uri": "https://localhost:8080/"
        },
        "id": "laPfPEqIqft9",
        "outputId": "e34f5c5d-3fbd-463c-ef91-ecbf0623923c"
      },
      "source": [
        "y_pred is kmeans.labels_"
      ],
      "execution_count": null,
      "outputs": [
        {
          "output_type": "execute_result",
          "data": {
            "text/plain": [
              "True"
            ]
          },
          "metadata": {
            "tags": []
          },
          "execution_count": 5
        }
      ]
    },
    {
      "cell_type": "code",
      "metadata": {
        "colab": {
          "base_uri": "https://localhost:8080/"
        },
        "id": "73cXIBT9qqhl",
        "outputId": "9ee1d5f8-9562-4466-f19c-05a9c42621a7"
      },
      "source": [
        "kmeans.cluster_centers_"
      ],
      "execution_count": null,
      "outputs": [
        {
          "output_type": "execute_result",
          "data": {
            "text/plain": [
              "array([[5.006     , 3.428     , 1.462     , 0.246     ],\n",
              "       [5.9016129 , 2.7483871 , 4.39354839, 1.43387097],\n",
              "       [6.85      , 3.07368421, 5.74210526, 2.07105263]])"
            ]
          },
          "metadata": {
            "tags": []
          },
          "execution_count": 6
        }
      ]
    },
    {
      "cell_type": "code",
      "metadata": {
        "colab": {
          "base_uri": "https://localhost:8080/"
        },
        "id": "2vleoJJy-9f9",
        "outputId": "23cabe4f-f5d9-484a-c18d-0280e3d1ea48"
      },
      "source": [
        "kmeans.score(X)"
      ],
      "execution_count": null,
      "outputs": [
        {
          "output_type": "execute_result",
          "data": {
            "text/plain": [
              "-78.85144142614655"
            ]
          },
          "metadata": {
            "tags": []
          },
          "execution_count": 7
        }
      ]
    },
    {
      "cell_type": "markdown",
      "metadata": {
        "id": "-C5CgNwPq7Nd"
      },
      "source": [
        "# Centroid Initialization"
      ]
    },
    {
      "cell_type": "code",
      "metadata": {
        "id": "OAsY4R18-Jyx"
      },
      "source": [
        "import numpy as np\n"
      ],
      "execution_count": null,
      "outputs": []
    },
    {
      "cell_type": "code",
      "metadata": {
        "id": "lolKKlJr-Fm4"
      },
      "source": [
        "good_init = np.array([[-3, 3], [-3, 2], [-3, 1], [-1, 2], [0, 2]])\n",
        "kmeans = KMeans(n_clusters=5, init=good_init, n_init=1)"
      ],
      "execution_count": null,
      "outputs": []
    },
    {
      "cell_type": "markdown",
      "metadata": {
        "id": "kQS0HisP-H7u"
      },
      "source": [
        "## Minin Batches Kmeans"
      ]
    },
    {
      "cell_type": "code",
      "metadata": {
        "id": "Hb8x3KLflqUv"
      },
      "source": [
        "from sklearn.cluster import MiniBatchKMeans\n",
        "mini_batch_kmeans= MiniBatchKMeans(n_clusters=5)"
      ],
      "execution_count": null,
      "outputs": []
    },
    {
      "cell_type": "code",
      "metadata": {
        "colab": {
          "base_uri": "https://localhost:8080/"
        },
        "id": "HZxDU88Ol4Mv",
        "outputId": "74221c9d-9322-40bf-e148-057b5d198903"
      },
      "source": [
        "mini_batch_kmeans.fit(X)"
      ],
      "execution_count": null,
      "outputs": [
        {
          "output_type": "execute_result",
          "data": {
            "text/plain": [
              "MiniBatchKMeans(batch_size=100, compute_labels=True, init='k-means++',\n",
              "                init_size=None, max_iter=100, max_no_improvement=10,\n",
              "                n_clusters=5, n_init=3, random_state=None,\n",
              "                reassignment_ratio=0.01, tol=0.0, verbose=0)"
            ]
          },
          "metadata": {
            "tags": []
          },
          "execution_count": 11
        }
      ]
    },
    {
      "cell_type": "markdown",
      "metadata": {
        "id": "5DXGT7gNl60F"
      },
      "source": [
        "## Clustering for dimensionality redcuction"
      ]
    },
    {
      "cell_type": "code",
      "metadata": {
        "id": "9X2HXNhofre6"
      },
      "source": [
        "from sklearn.datasets import load_digits\n",
        "X_digits,y_digits=load_digits(return_X_y=True)"
      ],
      "execution_count": null,
      "outputs": []
    },
    {
      "cell_type": "code",
      "metadata": {
        "id": "l-DC8SGsg3gM"
      },
      "source": [
        "from sklearn.model_selection import train_test_split\n",
        "X_train, X_test, y_train, y_test = train_test_split(X_digits, y_digits)"
      ],
      "execution_count": null,
      "outputs": []
    },
    {
      "cell_type": "code",
      "metadata": {
        "colab": {
          "base_uri": "https://localhost:8080/"
        },
        "id": "Y3o2U7uYg-hl",
        "outputId": "28b3ec48-2648-49e8-8ad8-e944922868fd"
      },
      "source": [
        "from sklearn.linear_model import LogisticRegression\n",
        "log_reg = LogisticRegression(max_iter=10000,random_state=42)\n",
        "log_reg.fit(X_train, y_train)"
      ],
      "execution_count": null,
      "outputs": [
        {
          "output_type": "execute_result",
          "data": {
            "text/plain": [
              "LogisticRegression(C=1.0, class_weight=None, dual=False, fit_intercept=True,\n",
              "                   intercept_scaling=1, l1_ratio=None, max_iter=10000,\n",
              "                   multi_class='auto', n_jobs=None, penalty='l2',\n",
              "                   random_state=42, solver='lbfgs', tol=0.0001, verbose=0,\n",
              "                   warm_start=False)"
            ]
          },
          "metadata": {
            "tags": []
          },
          "execution_count": 16
        }
      ]
    },
    {
      "cell_type": "code",
      "metadata": {
        "colab": {
          "base_uri": "https://localhost:8080/"
        },
        "id": "5R8_rfcehAgc",
        "outputId": "de6391e3-f276-4c08-f6e5-efc48ec948ee"
      },
      "source": [
        "log_reg.score(X_test, y_test)"
      ],
      "execution_count": null,
      "outputs": [
        {
          "output_type": "execute_result",
          "data": {
            "text/plain": [
              "0.9622222222222222"
            ]
          },
          "metadata": {
            "tags": []
          },
          "execution_count": 17
        }
      ]
    },
    {
      "cell_type": "code",
      "metadata": {
        "colab": {
          "base_uri": "https://localhost:8080/"
        },
        "id": "0P4EUTmQhNak",
        "outputId": "1ccfd5d9-9738-48a3-cff4-38fa5ce97656"
      },
      "source": [
        "from sklearn.pipeline import Pipeline\n",
        "pipeline = Pipeline([\n",
        "(\"kmeans\", KMeans(n_clusters=50)),\n",
        "(\"log_reg\", LogisticRegression(max_iter=10000,random_state=42)),\n",
        "])\n",
        "pipeline.fit(X_train, y_train)"
      ],
      "execution_count": null,
      "outputs": [
        {
          "output_type": "execute_result",
          "data": {
            "text/plain": [
              "Pipeline(memory=None,\n",
              "         steps=[('kmeans',\n",
              "                 KMeans(algorithm='auto', copy_x=True, init='k-means++',\n",
              "                        max_iter=300, n_clusters=50, n_init=10, n_jobs=None,\n",
              "                        precompute_distances='auto', random_state=None,\n",
              "                        tol=0.0001, verbose=0)),\n",
              "                ('log_reg',\n",
              "                 LogisticRegression(C=1.0, class_weight=None, dual=False,\n",
              "                                    fit_intercept=True, intercept_scaling=1,\n",
              "                                    l1_ratio=None, max_iter=10000,\n",
              "                                    multi_class='auto', n_jobs=None,\n",
              "                                    penalty='l2', random_state=42,\n",
              "                                    solver='lbfgs', tol=0.0001, verbose=0,\n",
              "                                    warm_start=False))],\n",
              "         verbose=False)"
            ]
          },
          "metadata": {
            "tags": []
          },
          "execution_count": 19
        }
      ]
    },
    {
      "cell_type": "code",
      "metadata": {
        "colab": {
          "base_uri": "https://localhost:8080/"
        },
        "id": "zaBJ0kuvhRGK",
        "outputId": "b1033441-ea49-4c67-be52-57aa650ca10e"
      },
      "source": [
        "pipeline.score(X_train,y_train)"
      ],
      "execution_count": null,
      "outputs": [
        {
          "output_type": "execute_result",
          "data": {
            "text/plain": [
              "1.0"
            ]
          },
          "metadata": {
            "tags": []
          },
          "execution_count": 20
        }
      ]
    },
    {
      "cell_type": "code",
      "metadata": {
        "colab": {
          "background_save": true,
          "base_uri": "https://localhost:8080/"
        },
        "id": "Oa33qGyphvWF",
        "outputId": "9421a2a0-6cc2-4e19-d5f9-f06e5c5bacfa"
      },
      "source": [
        "from sklearn.model_selection import GridSearchCV\n",
        "param_grid = dict(kmeans__n_clusters=range(2, 100))\n",
        "grid_clf = GridSearchCV(pipeline, param_grid, cv=3, verbose=2)\n",
        "grid_clf.fit(X_train, y_train)"
      ],
      "execution_count": null,
      "outputs": [
        {
          "output_type": "stream",
          "text": [
            "Fitting 3 folds for each of 98 candidates, totalling 294 fits\n",
            "[CV] kmeans__n_clusters=2 ............................................\n"
          ],
          "name": "stdout"
        },
        {
          "output_type": "stream",
          "text": [
            "[Parallel(n_jobs=1)]: Using backend SequentialBackend with 1 concurrent workers.\n"
          ],
          "name": "stderr"
        },
        {
          "output_type": "stream",
          "text": [
            "[CV] ............................. kmeans__n_clusters=2, total=   0.9s\n",
            "[CV] kmeans__n_clusters=2 ............................................\n"
          ],
          "name": "stdout"
        },
        {
          "output_type": "stream",
          "text": [
            "[Parallel(n_jobs=1)]: Done   1 out of   1 | elapsed:    0.9s remaining:    0.0s\n"
          ],
          "name": "stderr"
        },
        {
          "output_type": "stream",
          "text": [
            "[CV] ............................. kmeans__n_clusters=2, total=   1.5s\n",
            "[CV] kmeans__n_clusters=2 ............................................\n",
            "[CV] ............................. kmeans__n_clusters=2, total=   1.2s\n",
            "[CV] kmeans__n_clusters=3 ............................................\n",
            "[CV] ............................. kmeans__n_clusters=3, total=   3.0s\n",
            "[CV] kmeans__n_clusters=3 ............................................\n",
            "[CV] ............................. kmeans__n_clusters=3, total=   3.6s\n",
            "[CV] kmeans__n_clusters=3 ............................................\n",
            "[CV] ............................. kmeans__n_clusters=3, total=   2.0s\n",
            "[CV] kmeans__n_clusters=4 ............................................\n",
            "[CV] ............................. kmeans__n_clusters=4, total=   3.5s\n",
            "[CV] kmeans__n_clusters=4 ............................................\n",
            "[CV] ............................. kmeans__n_clusters=4, total=   4.6s\n",
            "[CV] kmeans__n_clusters=4 ............................................\n",
            "[CV] ............................. kmeans__n_clusters=4, total=   2.1s\n",
            "[CV] kmeans__n_clusters=5 ............................................\n"
          ],
          "name": "stdout"
        },
        {
          "output_type": "stream",
          "text": [
            "/usr/local/lib/python3.7/dist-packages/sklearn/linear_model/_logistic.py:940: ConvergenceWarning: lbfgs failed to converge (status=1):\n",
            "STOP: TOTAL NO. of ITERATIONS REACHED LIMIT.\n",
            "\n",
            "Increase the number of iterations (max_iter) or scale the data as shown in:\n",
            "    https://scikit-learn.org/stable/modules/preprocessing.html\n",
            "Please also refer to the documentation for alternative solver options:\n",
            "    https://scikit-learn.org/stable/modules/linear_model.html#logistic-regression\n",
            "  extra_warning_msg=_LOGISTIC_SOLVER_CONVERGENCE_MSG)\n"
          ],
          "name": "stderr"
        },
        {
          "output_type": "stream",
          "text": [
            "[CV] ............................. kmeans__n_clusters=5, total=   9.7s\n",
            "[CV] kmeans__n_clusters=5 ............................................\n",
            "[CV] ............................. kmeans__n_clusters=5, total=   8.8s\n",
            "[CV] kmeans__n_clusters=5 ............................................\n",
            "[CV] ............................. kmeans__n_clusters=5, total=   2.8s\n",
            "[CV] kmeans__n_clusters=6 ............................................\n"
          ],
          "name": "stdout"
        },
        {
          "output_type": "stream",
          "text": [
            "/usr/local/lib/python3.7/dist-packages/sklearn/linear_model/_logistic.py:940: ConvergenceWarning: lbfgs failed to converge (status=1):\n",
            "STOP: TOTAL NO. of ITERATIONS REACHED LIMIT.\n",
            "\n",
            "Increase the number of iterations (max_iter) or scale the data as shown in:\n",
            "    https://scikit-learn.org/stable/modules/preprocessing.html\n",
            "Please also refer to the documentation for alternative solver options:\n",
            "    https://scikit-learn.org/stable/modules/linear_model.html#logistic-regression\n",
            "  extra_warning_msg=_LOGISTIC_SOLVER_CONVERGENCE_MSG)\n"
          ],
          "name": "stderr"
        },
        {
          "output_type": "stream",
          "text": [
            "[CV] ............................. kmeans__n_clusters=6, total=   9.8s\n",
            "[CV] kmeans__n_clusters=6 ............................................\n"
          ],
          "name": "stdout"
        },
        {
          "output_type": "stream",
          "text": [
            "/usr/local/lib/python3.7/dist-packages/sklearn/linear_model/_logistic.py:940: ConvergenceWarning: lbfgs failed to converge (status=1):\n",
            "STOP: TOTAL NO. of ITERATIONS REACHED LIMIT.\n",
            "\n",
            "Increase the number of iterations (max_iter) or scale the data as shown in:\n",
            "    https://scikit-learn.org/stable/modules/preprocessing.html\n",
            "Please also refer to the documentation for alternative solver options:\n",
            "    https://scikit-learn.org/stable/modules/linear_model.html#logistic-regression\n",
            "  extra_warning_msg=_LOGISTIC_SOLVER_CONVERGENCE_MSG)\n"
          ],
          "name": "stderr"
        },
        {
          "output_type": "stream",
          "text": [
            "[CV] ............................. kmeans__n_clusters=6, total=   9.8s\n",
            "[CV] kmeans__n_clusters=6 ............................................\n",
            "[CV] ............................. kmeans__n_clusters=6, total=   5.2s\n",
            "[CV] kmeans__n_clusters=7 ............................................\n"
          ],
          "name": "stdout"
        },
        {
          "output_type": "stream",
          "text": [
            "/usr/local/lib/python3.7/dist-packages/sklearn/linear_model/_logistic.py:940: ConvergenceWarning: lbfgs failed to converge (status=1):\n",
            "STOP: TOTAL NO. of ITERATIONS REACHED LIMIT.\n",
            "\n",
            "Increase the number of iterations (max_iter) or scale the data as shown in:\n",
            "    https://scikit-learn.org/stable/modules/preprocessing.html\n",
            "Please also refer to the documentation for alternative solver options:\n",
            "    https://scikit-learn.org/stable/modules/linear_model.html#logistic-regression\n",
            "  extra_warning_msg=_LOGISTIC_SOLVER_CONVERGENCE_MSG)\n"
          ],
          "name": "stderr"
        },
        {
          "output_type": "stream",
          "text": [
            "[CV] ............................. kmeans__n_clusters=7, total=   9.9s\n",
            "[CV] kmeans__n_clusters=7 ............................................\n"
          ],
          "name": "stdout"
        },
        {
          "output_type": "stream",
          "text": [
            "/usr/local/lib/python3.7/dist-packages/sklearn/linear_model/_logistic.py:940: ConvergenceWarning: lbfgs failed to converge (status=1):\n",
            "STOP: TOTAL NO. of ITERATIONS REACHED LIMIT.\n",
            "\n",
            "Increase the number of iterations (max_iter) or scale the data as shown in:\n",
            "    https://scikit-learn.org/stable/modules/preprocessing.html\n",
            "Please also refer to the documentation for alternative solver options:\n",
            "    https://scikit-learn.org/stable/modules/linear_model.html#logistic-regression\n",
            "  extra_warning_msg=_LOGISTIC_SOLVER_CONVERGENCE_MSG)\n"
          ],
          "name": "stderr"
        },
        {
          "output_type": "stream",
          "text": [
            "[CV] ............................. kmeans__n_clusters=7, total=   9.9s\n",
            "[CV] kmeans__n_clusters=7 ............................................\n",
            "[CV] ............................. kmeans__n_clusters=7, total=   6.7s\n",
            "[CV] kmeans__n_clusters=8 ............................................\n"
          ],
          "name": "stdout"
        },
        {
          "output_type": "stream",
          "text": [
            "/usr/local/lib/python3.7/dist-packages/sklearn/linear_model/_logistic.py:940: ConvergenceWarning: lbfgs failed to converge (status=1):\n",
            "STOP: TOTAL NO. of ITERATIONS REACHED LIMIT.\n",
            "\n",
            "Increase the number of iterations (max_iter) or scale the data as shown in:\n",
            "    https://scikit-learn.org/stable/modules/preprocessing.html\n",
            "Please also refer to the documentation for alternative solver options:\n",
            "    https://scikit-learn.org/stable/modules/linear_model.html#logistic-regression\n",
            "  extra_warning_msg=_LOGISTIC_SOLVER_CONVERGENCE_MSG)\n"
          ],
          "name": "stderr"
        },
        {
          "output_type": "stream",
          "text": [
            "[CV] ............................. kmeans__n_clusters=8, total=   9.9s\n",
            "[CV] kmeans__n_clusters=8 ............................................\n"
          ],
          "name": "stdout"
        },
        {
          "output_type": "stream",
          "text": [
            "/usr/local/lib/python3.7/dist-packages/sklearn/linear_model/_logistic.py:940: ConvergenceWarning: lbfgs failed to converge (status=1):\n",
            "STOP: TOTAL NO. of ITERATIONS REACHED LIMIT.\n",
            "\n",
            "Increase the number of iterations (max_iter) or scale the data as shown in:\n",
            "    https://scikit-learn.org/stable/modules/preprocessing.html\n",
            "Please also refer to the documentation for alternative solver options:\n",
            "    https://scikit-learn.org/stable/modules/linear_model.html#logistic-regression\n",
            "  extra_warning_msg=_LOGISTIC_SOLVER_CONVERGENCE_MSG)\n"
          ],
          "name": "stderr"
        },
        {
          "output_type": "stream",
          "text": [
            "[CV] ............................. kmeans__n_clusters=8, total=   9.8s\n",
            "[CV] kmeans__n_clusters=8 ............................................\n",
            "[CV] ............................. kmeans__n_clusters=8, total=   9.3s\n",
            "[CV] kmeans__n_clusters=9 ............................................\n",
            "[CV] ............................. kmeans__n_clusters=9, total=   9.5s\n",
            "[CV] kmeans__n_clusters=9 ............................................\n"
          ],
          "name": "stdout"
        },
        {
          "output_type": "stream",
          "text": [
            "/usr/local/lib/python3.7/dist-packages/sklearn/linear_model/_logistic.py:940: ConvergenceWarning: lbfgs failed to converge (status=1):\n",
            "STOP: TOTAL NO. of ITERATIONS REACHED LIMIT.\n",
            "\n",
            "Increase the number of iterations (max_iter) or scale the data as shown in:\n",
            "    https://scikit-learn.org/stable/modules/preprocessing.html\n",
            "Please also refer to the documentation for alternative solver options:\n",
            "    https://scikit-learn.org/stable/modules/linear_model.html#logistic-regression\n",
            "  extra_warning_msg=_LOGISTIC_SOLVER_CONVERGENCE_MSG)\n"
          ],
          "name": "stderr"
        },
        {
          "output_type": "stream",
          "text": [
            "[CV] ............................. kmeans__n_clusters=9, total=  10.0s\n",
            "[CV] kmeans__n_clusters=9 ............................................\n",
            "[CV] ............................. kmeans__n_clusters=9, total=   8.2s\n",
            "[CV] kmeans__n_clusters=10 ...........................................\n",
            "[CV] ............................ kmeans__n_clusters=10, total=   7.9s\n",
            "[CV] kmeans__n_clusters=10 ...........................................\n"
          ],
          "name": "stdout"
        },
        {
          "output_type": "stream",
          "text": [
            "/usr/local/lib/python3.7/dist-packages/sklearn/linear_model/_logistic.py:940: ConvergenceWarning: lbfgs failed to converge (status=1):\n",
            "STOP: TOTAL NO. of ITERATIONS REACHED LIMIT.\n",
            "\n",
            "Increase the number of iterations (max_iter) or scale the data as shown in:\n",
            "    https://scikit-learn.org/stable/modules/preprocessing.html\n",
            "Please also refer to the documentation for alternative solver options:\n",
            "    https://scikit-learn.org/stable/modules/linear_model.html#logistic-regression\n",
            "  extra_warning_msg=_LOGISTIC_SOLVER_CONVERGENCE_MSG)\n"
          ],
          "name": "stderr"
        },
        {
          "output_type": "stream",
          "text": [
            "[CV] ............................ kmeans__n_clusters=10, total=  10.1s\n",
            "[CV] kmeans__n_clusters=10 ...........................................\n",
            "[CV] ............................ kmeans__n_clusters=10, total=   9.8s\n",
            "[CV] kmeans__n_clusters=11 ...........................................\n"
          ],
          "name": "stdout"
        },
        {
          "output_type": "stream",
          "text": [
            "/usr/local/lib/python3.7/dist-packages/sklearn/linear_model/_logistic.py:940: ConvergenceWarning: lbfgs failed to converge (status=1):\n",
            "STOP: TOTAL NO. of ITERATIONS REACHED LIMIT.\n",
            "\n",
            "Increase the number of iterations (max_iter) or scale the data as shown in:\n",
            "    https://scikit-learn.org/stable/modules/preprocessing.html\n",
            "Please also refer to the documentation for alternative solver options:\n",
            "    https://scikit-learn.org/stable/modules/linear_model.html#logistic-regression\n",
            "  extra_warning_msg=_LOGISTIC_SOLVER_CONVERGENCE_MSG)\n"
          ],
          "name": "stderr"
        },
        {
          "output_type": "stream",
          "text": [
            "[CV] ............................ kmeans__n_clusters=11, total=  10.1s\n",
            "[CV] kmeans__n_clusters=11 ...........................................\n"
          ],
          "name": "stdout"
        },
        {
          "output_type": "stream",
          "text": [
            "/usr/local/lib/python3.7/dist-packages/sklearn/linear_model/_logistic.py:940: ConvergenceWarning: lbfgs failed to converge (status=1):\n",
            "STOP: TOTAL NO. of ITERATIONS REACHED LIMIT.\n",
            "\n",
            "Increase the number of iterations (max_iter) or scale the data as shown in:\n",
            "    https://scikit-learn.org/stable/modules/preprocessing.html\n",
            "Please also refer to the documentation for alternative solver options:\n",
            "    https://scikit-learn.org/stable/modules/linear_model.html#logistic-regression\n",
            "  extra_warning_msg=_LOGISTIC_SOLVER_CONVERGENCE_MSG)\n"
          ],
          "name": "stderr"
        },
        {
          "output_type": "stream",
          "text": [
            "[CV] ............................ kmeans__n_clusters=11, total=  10.0s\n",
            "[CV] kmeans__n_clusters=11 ...........................................\n",
            "[CV] ............................ kmeans__n_clusters=11, total=   9.3s\n",
            "[CV] kmeans__n_clusters=12 ...........................................\n"
          ],
          "name": "stdout"
        },
        {
          "output_type": "stream",
          "text": [
            "/usr/local/lib/python3.7/dist-packages/sklearn/linear_model/_logistic.py:940: ConvergenceWarning: lbfgs failed to converge (status=1):\n",
            "STOP: TOTAL NO. of ITERATIONS REACHED LIMIT.\n",
            "\n",
            "Increase the number of iterations (max_iter) or scale the data as shown in:\n",
            "    https://scikit-learn.org/stable/modules/preprocessing.html\n",
            "Please also refer to the documentation for alternative solver options:\n",
            "    https://scikit-learn.org/stable/modules/linear_model.html#logistic-regression\n",
            "  extra_warning_msg=_LOGISTIC_SOLVER_CONVERGENCE_MSG)\n"
          ],
          "name": "stderr"
        },
        {
          "output_type": "stream",
          "text": [
            "[CV] ............................ kmeans__n_clusters=12, total=  10.0s\n",
            "[CV] kmeans__n_clusters=12 ...........................................\n"
          ],
          "name": "stdout"
        },
        {
          "output_type": "stream",
          "text": [
            "/usr/local/lib/python3.7/dist-packages/sklearn/linear_model/_logistic.py:940: ConvergenceWarning: lbfgs failed to converge (status=1):\n",
            "STOP: TOTAL NO. of ITERATIONS REACHED LIMIT.\n",
            "\n",
            "Increase the number of iterations (max_iter) or scale the data as shown in:\n",
            "    https://scikit-learn.org/stable/modules/preprocessing.html\n",
            "Please also refer to the documentation for alternative solver options:\n",
            "    https://scikit-learn.org/stable/modules/linear_model.html#logistic-regression\n",
            "  extra_warning_msg=_LOGISTIC_SOLVER_CONVERGENCE_MSG)\n"
          ],
          "name": "stderr"
        },
        {
          "output_type": "stream",
          "text": [
            "[CV] ............................ kmeans__n_clusters=12, total=  10.1s\n",
            "[CV] kmeans__n_clusters=12 ...........................................\n"
          ],
          "name": "stdout"
        },
        {
          "output_type": "stream",
          "text": [
            "/usr/local/lib/python3.7/dist-packages/sklearn/linear_model/_logistic.py:940: ConvergenceWarning: lbfgs failed to converge (status=1):\n",
            "STOP: TOTAL NO. of ITERATIONS REACHED LIMIT.\n",
            "\n",
            "Increase the number of iterations (max_iter) or scale the data as shown in:\n",
            "    https://scikit-learn.org/stable/modules/preprocessing.html\n",
            "Please also refer to the documentation for alternative solver options:\n",
            "    https://scikit-learn.org/stable/modules/linear_model.html#logistic-regression\n",
            "  extra_warning_msg=_LOGISTIC_SOLVER_CONVERGENCE_MSG)\n"
          ],
          "name": "stderr"
        },
        {
          "output_type": "stream",
          "text": [
            "[CV] ............................ kmeans__n_clusters=12, total=  10.1s\n",
            "[CV] kmeans__n_clusters=13 ...........................................\n"
          ],
          "name": "stdout"
        },
        {
          "output_type": "stream",
          "text": [
            "/usr/local/lib/python3.7/dist-packages/sklearn/linear_model/_logistic.py:940: ConvergenceWarning: lbfgs failed to converge (status=1):\n",
            "STOP: TOTAL NO. of ITERATIONS REACHED LIMIT.\n",
            "\n",
            "Increase the number of iterations (max_iter) or scale the data as shown in:\n",
            "    https://scikit-learn.org/stable/modules/preprocessing.html\n",
            "Please also refer to the documentation for alternative solver options:\n",
            "    https://scikit-learn.org/stable/modules/linear_model.html#logistic-regression\n",
            "  extra_warning_msg=_LOGISTIC_SOLVER_CONVERGENCE_MSG)\n"
          ],
          "name": "stderr"
        },
        {
          "output_type": "stream",
          "text": [
            "[CV] ............................ kmeans__n_clusters=13, total=  10.2s\n",
            "[CV] kmeans__n_clusters=13 ...........................................\n"
          ],
          "name": "stdout"
        },
        {
          "output_type": "stream",
          "text": [
            "/usr/local/lib/python3.7/dist-packages/sklearn/linear_model/_logistic.py:940: ConvergenceWarning: lbfgs failed to converge (status=1):\n",
            "STOP: TOTAL NO. of ITERATIONS REACHED LIMIT.\n",
            "\n",
            "Increase the number of iterations (max_iter) or scale the data as shown in:\n",
            "    https://scikit-learn.org/stable/modules/preprocessing.html\n",
            "Please also refer to the documentation for alternative solver options:\n",
            "    https://scikit-learn.org/stable/modules/linear_model.html#logistic-regression\n",
            "  extra_warning_msg=_LOGISTIC_SOLVER_CONVERGENCE_MSG)\n"
          ],
          "name": "stderr"
        },
        {
          "output_type": "stream",
          "text": [
            "[CV] ............................ kmeans__n_clusters=13, total=  10.2s\n",
            "[CV] kmeans__n_clusters=13 ...........................................\n",
            "[CV] ............................ kmeans__n_clusters=13, total=   9.1s\n",
            "[CV] kmeans__n_clusters=14 ...........................................\n"
          ],
          "name": "stdout"
        },
        {
          "output_type": "stream",
          "text": [
            "/usr/local/lib/python3.7/dist-packages/sklearn/linear_model/_logistic.py:940: ConvergenceWarning: lbfgs failed to converge (status=1):\n",
            "STOP: TOTAL NO. of ITERATIONS REACHED LIMIT.\n",
            "\n",
            "Increase the number of iterations (max_iter) or scale the data as shown in:\n",
            "    https://scikit-learn.org/stable/modules/preprocessing.html\n",
            "Please also refer to the documentation for alternative solver options:\n",
            "    https://scikit-learn.org/stable/modules/linear_model.html#logistic-regression\n",
            "  extra_warning_msg=_LOGISTIC_SOLVER_CONVERGENCE_MSG)\n"
          ],
          "name": "stderr"
        },
        {
          "output_type": "stream",
          "text": [
            "[CV] ............................ kmeans__n_clusters=14, total=  10.1s\n",
            "[CV] kmeans__n_clusters=14 ...........................................\n"
          ],
          "name": "stdout"
        },
        {
          "output_type": "stream",
          "text": [
            "/usr/local/lib/python3.7/dist-packages/sklearn/linear_model/_logistic.py:940: ConvergenceWarning: lbfgs failed to converge (status=1):\n",
            "STOP: TOTAL NO. of ITERATIONS REACHED LIMIT.\n",
            "\n",
            "Increase the number of iterations (max_iter) or scale the data as shown in:\n",
            "    https://scikit-learn.org/stable/modules/preprocessing.html\n",
            "Please also refer to the documentation for alternative solver options:\n",
            "    https://scikit-learn.org/stable/modules/linear_model.html#logistic-regression\n",
            "  extra_warning_msg=_LOGISTIC_SOLVER_CONVERGENCE_MSG)\n"
          ],
          "name": "stderr"
        },
        {
          "output_type": "stream",
          "text": [
            "[CV] ............................ kmeans__n_clusters=14, total=  10.2s\n",
            "[CV] kmeans__n_clusters=14 ...........................................\n"
          ],
          "name": "stdout"
        },
        {
          "output_type": "stream",
          "text": [
            "/usr/local/lib/python3.7/dist-packages/sklearn/linear_model/_logistic.py:940: ConvergenceWarning: lbfgs failed to converge (status=1):\n",
            "STOP: TOTAL NO. of ITERATIONS REACHED LIMIT.\n",
            "\n",
            "Increase the number of iterations (max_iter) or scale the data as shown in:\n",
            "    https://scikit-learn.org/stable/modules/preprocessing.html\n",
            "Please also refer to the documentation for alternative solver options:\n",
            "    https://scikit-learn.org/stable/modules/linear_model.html#logistic-regression\n",
            "  extra_warning_msg=_LOGISTIC_SOLVER_CONVERGENCE_MSG)\n"
          ],
          "name": "stderr"
        },
        {
          "output_type": "stream",
          "text": [
            "[CV] ............................ kmeans__n_clusters=14, total=  10.2s\n",
            "[CV] kmeans__n_clusters=15 ...........................................\n"
          ],
          "name": "stdout"
        },
        {
          "output_type": "stream",
          "text": [
            "/usr/local/lib/python3.7/dist-packages/sklearn/linear_model/_logistic.py:940: ConvergenceWarning: lbfgs failed to converge (status=1):\n",
            "STOP: TOTAL NO. of ITERATIONS REACHED LIMIT.\n",
            "\n",
            "Increase the number of iterations (max_iter) or scale the data as shown in:\n",
            "    https://scikit-learn.org/stable/modules/preprocessing.html\n",
            "Please also refer to the documentation for alternative solver options:\n",
            "    https://scikit-learn.org/stable/modules/linear_model.html#logistic-regression\n",
            "  extra_warning_msg=_LOGISTIC_SOLVER_CONVERGENCE_MSG)\n"
          ],
          "name": "stderr"
        },
        {
          "output_type": "stream",
          "text": [
            "[CV] ............................ kmeans__n_clusters=15, total=  10.3s\n",
            "[CV] kmeans__n_clusters=15 ...........................................\n"
          ],
          "name": "stdout"
        },
        {
          "output_type": "stream",
          "text": [
            "/usr/local/lib/python3.7/dist-packages/sklearn/linear_model/_logistic.py:940: ConvergenceWarning: lbfgs failed to converge (status=1):\n",
            "STOP: TOTAL NO. of ITERATIONS REACHED LIMIT.\n",
            "\n",
            "Increase the number of iterations (max_iter) or scale the data as shown in:\n",
            "    https://scikit-learn.org/stable/modules/preprocessing.html\n",
            "Please also refer to the documentation for alternative solver options:\n",
            "    https://scikit-learn.org/stable/modules/linear_model.html#logistic-regression\n",
            "  extra_warning_msg=_LOGISTIC_SOLVER_CONVERGENCE_MSG)\n"
          ],
          "name": "stderr"
        },
        {
          "output_type": "stream",
          "text": [
            "[CV] ............................ kmeans__n_clusters=15, total=  10.3s\n",
            "[CV] kmeans__n_clusters=15 ...........................................\n",
            "[CV] ............................ kmeans__n_clusters=15, total=   9.8s\n",
            "[CV] kmeans__n_clusters=16 ...........................................\n",
            "[CV] ............................ kmeans__n_clusters=16, total=   9.2s\n",
            "[CV] kmeans__n_clusters=16 ...........................................\n"
          ],
          "name": "stdout"
        },
        {
          "output_type": "stream",
          "text": [
            "/usr/local/lib/python3.7/dist-packages/sklearn/linear_model/_logistic.py:940: ConvergenceWarning: lbfgs failed to converge (status=1):\n",
            "STOP: TOTAL NO. of ITERATIONS REACHED LIMIT.\n",
            "\n",
            "Increase the number of iterations (max_iter) or scale the data as shown in:\n",
            "    https://scikit-learn.org/stable/modules/preprocessing.html\n",
            "Please also refer to the documentation for alternative solver options:\n",
            "    https://scikit-learn.org/stable/modules/linear_model.html#logistic-regression\n",
            "  extra_warning_msg=_LOGISTIC_SOLVER_CONVERGENCE_MSG)\n"
          ],
          "name": "stderr"
        },
        {
          "output_type": "stream",
          "text": [
            "[CV] ............................ kmeans__n_clusters=16, total=  10.3s\n",
            "[CV] kmeans__n_clusters=16 ...........................................\n"
          ],
          "name": "stdout"
        },
        {
          "output_type": "stream",
          "text": [
            "/usr/local/lib/python3.7/dist-packages/sklearn/linear_model/_logistic.py:940: ConvergenceWarning: lbfgs failed to converge (status=1):\n",
            "STOP: TOTAL NO. of ITERATIONS REACHED LIMIT.\n",
            "\n",
            "Increase the number of iterations (max_iter) or scale the data as shown in:\n",
            "    https://scikit-learn.org/stable/modules/preprocessing.html\n",
            "Please also refer to the documentation for alternative solver options:\n",
            "    https://scikit-learn.org/stable/modules/linear_model.html#logistic-regression\n",
            "  extra_warning_msg=_LOGISTIC_SOLVER_CONVERGENCE_MSG)\n"
          ],
          "name": "stderr"
        },
        {
          "output_type": "stream",
          "text": [
            "[CV] ............................ kmeans__n_clusters=16, total=  10.1s\n",
            "[CV] kmeans__n_clusters=17 ...........................................\n"
          ],
          "name": "stdout"
        },
        {
          "output_type": "stream",
          "text": [
            "/usr/local/lib/python3.7/dist-packages/sklearn/linear_model/_logistic.py:940: ConvergenceWarning: lbfgs failed to converge (status=1):\n",
            "STOP: TOTAL NO. of ITERATIONS REACHED LIMIT.\n",
            "\n",
            "Increase the number of iterations (max_iter) or scale the data as shown in:\n",
            "    https://scikit-learn.org/stable/modules/preprocessing.html\n",
            "Please also refer to the documentation for alternative solver options:\n",
            "    https://scikit-learn.org/stable/modules/linear_model.html#logistic-regression\n",
            "  extra_warning_msg=_LOGISTIC_SOLVER_CONVERGENCE_MSG)\n"
          ],
          "name": "stderr"
        },
        {
          "output_type": "stream",
          "text": [
            "[CV] ............................ kmeans__n_clusters=17, total=  10.4s\n",
            "[CV] kmeans__n_clusters=17 ...........................................\n"
          ],
          "name": "stdout"
        },
        {
          "output_type": "stream",
          "text": [
            "/usr/local/lib/python3.7/dist-packages/sklearn/linear_model/_logistic.py:940: ConvergenceWarning: lbfgs failed to converge (status=1):\n",
            "STOP: TOTAL NO. of ITERATIONS REACHED LIMIT.\n",
            "\n",
            "Increase the number of iterations (max_iter) or scale the data as shown in:\n",
            "    https://scikit-learn.org/stable/modules/preprocessing.html\n",
            "Please also refer to the documentation for alternative solver options:\n",
            "    https://scikit-learn.org/stable/modules/linear_model.html#logistic-regression\n",
            "  extra_warning_msg=_LOGISTIC_SOLVER_CONVERGENCE_MSG)\n"
          ],
          "name": "stderr"
        },
        {
          "output_type": "stream",
          "text": [
            "[CV] ............................ kmeans__n_clusters=17, total=  10.5s\n",
            "[CV] kmeans__n_clusters=17 ...........................................\n"
          ],
          "name": "stdout"
        },
        {
          "output_type": "stream",
          "text": [
            "/usr/local/lib/python3.7/dist-packages/sklearn/linear_model/_logistic.py:940: ConvergenceWarning: lbfgs failed to converge (status=1):\n",
            "STOP: TOTAL NO. of ITERATIONS REACHED LIMIT.\n",
            "\n",
            "Increase the number of iterations (max_iter) or scale the data as shown in:\n",
            "    https://scikit-learn.org/stable/modules/preprocessing.html\n",
            "Please also refer to the documentation for alternative solver options:\n",
            "    https://scikit-learn.org/stable/modules/linear_model.html#logistic-regression\n",
            "  extra_warning_msg=_LOGISTIC_SOLVER_CONVERGENCE_MSG)\n"
          ],
          "name": "stderr"
        },
        {
          "output_type": "stream",
          "text": [
            "[CV] ............................ kmeans__n_clusters=17, total=  10.4s\n",
            "[CV] kmeans__n_clusters=18 ...........................................\n",
            "[CV] ............................ kmeans__n_clusters=18, total=   8.9s\n",
            "[CV] kmeans__n_clusters=18 ...........................................\n"
          ],
          "name": "stdout"
        },
        {
          "output_type": "stream",
          "text": [
            "/usr/local/lib/python3.7/dist-packages/sklearn/linear_model/_logistic.py:940: ConvergenceWarning: lbfgs failed to converge (status=1):\n",
            "STOP: TOTAL NO. of ITERATIONS REACHED LIMIT.\n",
            "\n",
            "Increase the number of iterations (max_iter) or scale the data as shown in:\n",
            "    https://scikit-learn.org/stable/modules/preprocessing.html\n",
            "Please also refer to the documentation for alternative solver options:\n",
            "    https://scikit-learn.org/stable/modules/linear_model.html#logistic-regression\n",
            "  extra_warning_msg=_LOGISTIC_SOLVER_CONVERGENCE_MSG)\n"
          ],
          "name": "stderr"
        },
        {
          "output_type": "stream",
          "text": [
            "[CV] ............................ kmeans__n_clusters=18, total=  10.4s\n",
            "[CV] kmeans__n_clusters=18 ...........................................\n",
            "[CV] ............................ kmeans__n_clusters=18, total=  10.2s\n",
            "[CV] kmeans__n_clusters=19 ...........................................\n",
            "[CV] ............................ kmeans__n_clusters=19, total=   9.8s\n",
            "[CV] kmeans__n_clusters=19 ...........................................\n"
          ],
          "name": "stdout"
        },
        {
          "output_type": "stream",
          "text": [
            "/usr/local/lib/python3.7/dist-packages/sklearn/linear_model/_logistic.py:940: ConvergenceWarning: lbfgs failed to converge (status=1):\n",
            "STOP: TOTAL NO. of ITERATIONS REACHED LIMIT.\n",
            "\n",
            "Increase the number of iterations (max_iter) or scale the data as shown in:\n",
            "    https://scikit-learn.org/stable/modules/preprocessing.html\n",
            "Please also refer to the documentation for alternative solver options:\n",
            "    https://scikit-learn.org/stable/modules/linear_model.html#logistic-regression\n",
            "  extra_warning_msg=_LOGISTIC_SOLVER_CONVERGENCE_MSG)\n"
          ],
          "name": "stderr"
        },
        {
          "output_type": "stream",
          "text": [
            "[CV] ............................ kmeans__n_clusters=19, total=  10.5s\n",
            "[CV] kmeans__n_clusters=19 ...........................................\n"
          ],
          "name": "stdout"
        },
        {
          "output_type": "stream",
          "text": [
            "/usr/local/lib/python3.7/dist-packages/sklearn/linear_model/_logistic.py:940: ConvergenceWarning: lbfgs failed to converge (status=1):\n",
            "STOP: TOTAL NO. of ITERATIONS REACHED LIMIT.\n",
            "\n",
            "Increase the number of iterations (max_iter) or scale the data as shown in:\n",
            "    https://scikit-learn.org/stable/modules/preprocessing.html\n",
            "Please also refer to the documentation for alternative solver options:\n",
            "    https://scikit-learn.org/stable/modules/linear_model.html#logistic-regression\n",
            "  extra_warning_msg=_LOGISTIC_SOLVER_CONVERGENCE_MSG)\n"
          ],
          "name": "stderr"
        },
        {
          "output_type": "stream",
          "text": [
            "[CV] ............................ kmeans__n_clusters=19, total=  10.5s\n",
            "[CV] kmeans__n_clusters=20 ...........................................\n"
          ],
          "name": "stdout"
        },
        {
          "output_type": "stream",
          "text": [
            "/usr/local/lib/python3.7/dist-packages/sklearn/linear_model/_logistic.py:940: ConvergenceWarning: lbfgs failed to converge (status=1):\n",
            "STOP: TOTAL NO. of ITERATIONS REACHED LIMIT.\n",
            "\n",
            "Increase the number of iterations (max_iter) or scale the data as shown in:\n",
            "    https://scikit-learn.org/stable/modules/preprocessing.html\n",
            "Please also refer to the documentation for alternative solver options:\n",
            "    https://scikit-learn.org/stable/modules/linear_model.html#logistic-regression\n",
            "  extra_warning_msg=_LOGISTIC_SOLVER_CONVERGENCE_MSG)\n"
          ],
          "name": "stderr"
        },
        {
          "output_type": "stream",
          "text": [
            "[CV] ............................ kmeans__n_clusters=20, total=  10.4s\n",
            "[CV] kmeans__n_clusters=20 ...........................................\n"
          ],
          "name": "stdout"
        },
        {
          "output_type": "stream",
          "text": [
            "/usr/local/lib/python3.7/dist-packages/sklearn/linear_model/_logistic.py:940: ConvergenceWarning: lbfgs failed to converge (status=1):\n",
            "STOP: TOTAL NO. of ITERATIONS REACHED LIMIT.\n",
            "\n",
            "Increase the number of iterations (max_iter) or scale the data as shown in:\n",
            "    https://scikit-learn.org/stable/modules/preprocessing.html\n",
            "Please also refer to the documentation for alternative solver options:\n",
            "    https://scikit-learn.org/stable/modules/linear_model.html#logistic-regression\n",
            "  extra_warning_msg=_LOGISTIC_SOLVER_CONVERGENCE_MSG)\n"
          ],
          "name": "stderr"
        },
        {
          "output_type": "stream",
          "text": [
            "[CV] ............................ kmeans__n_clusters=20, total=  10.4s\n",
            "[CV] kmeans__n_clusters=20 ...........................................\n"
          ],
          "name": "stdout"
        },
        {
          "output_type": "stream",
          "text": [
            "/usr/local/lib/python3.7/dist-packages/sklearn/linear_model/_logistic.py:940: ConvergenceWarning: lbfgs failed to converge (status=1):\n",
            "STOP: TOTAL NO. of ITERATIONS REACHED LIMIT.\n",
            "\n",
            "Increase the number of iterations (max_iter) or scale the data as shown in:\n",
            "    https://scikit-learn.org/stable/modules/preprocessing.html\n",
            "Please also refer to the documentation for alternative solver options:\n",
            "    https://scikit-learn.org/stable/modules/linear_model.html#logistic-regression\n",
            "  extra_warning_msg=_LOGISTIC_SOLVER_CONVERGENCE_MSG)\n"
          ],
          "name": "stderr"
        },
        {
          "output_type": "stream",
          "text": [
            "[CV] ............................ kmeans__n_clusters=20, total=  10.4s\n",
            "[CV] kmeans__n_clusters=21 ...........................................\n"
          ],
          "name": "stdout"
        },
        {
          "output_type": "stream",
          "text": [
            "/usr/local/lib/python3.7/dist-packages/sklearn/linear_model/_logistic.py:940: ConvergenceWarning: lbfgs failed to converge (status=1):\n",
            "STOP: TOTAL NO. of ITERATIONS REACHED LIMIT.\n",
            "\n",
            "Increase the number of iterations (max_iter) or scale the data as shown in:\n",
            "    https://scikit-learn.org/stable/modules/preprocessing.html\n",
            "Please also refer to the documentation for alternative solver options:\n",
            "    https://scikit-learn.org/stable/modules/linear_model.html#logistic-regression\n",
            "  extra_warning_msg=_LOGISTIC_SOLVER_CONVERGENCE_MSG)\n"
          ],
          "name": "stderr"
        },
        {
          "output_type": "stream",
          "text": [
            "[CV] ............................ kmeans__n_clusters=21, total=  10.4s\n",
            "[CV] kmeans__n_clusters=21 ...........................................\n"
          ],
          "name": "stdout"
        },
        {
          "output_type": "stream",
          "text": [
            "/usr/local/lib/python3.7/dist-packages/sklearn/linear_model/_logistic.py:940: ConvergenceWarning: lbfgs failed to converge (status=1):\n",
            "STOP: TOTAL NO. of ITERATIONS REACHED LIMIT.\n",
            "\n",
            "Increase the number of iterations (max_iter) or scale the data as shown in:\n",
            "    https://scikit-learn.org/stable/modules/preprocessing.html\n",
            "Please also refer to the documentation for alternative solver options:\n",
            "    https://scikit-learn.org/stable/modules/linear_model.html#logistic-regression\n",
            "  extra_warning_msg=_LOGISTIC_SOLVER_CONVERGENCE_MSG)\n"
          ],
          "name": "stderr"
        },
        {
          "output_type": "stream",
          "text": [
            "[CV] ............................ kmeans__n_clusters=21, total=  10.5s\n",
            "[CV] kmeans__n_clusters=21 ...........................................\n"
          ],
          "name": "stdout"
        },
        {
          "output_type": "stream",
          "text": [
            "/usr/local/lib/python3.7/dist-packages/sklearn/linear_model/_logistic.py:940: ConvergenceWarning: lbfgs failed to converge (status=1):\n",
            "STOP: TOTAL NO. of ITERATIONS REACHED LIMIT.\n",
            "\n",
            "Increase the number of iterations (max_iter) or scale the data as shown in:\n",
            "    https://scikit-learn.org/stable/modules/preprocessing.html\n",
            "Please also refer to the documentation for alternative solver options:\n",
            "    https://scikit-learn.org/stable/modules/linear_model.html#logistic-regression\n",
            "  extra_warning_msg=_LOGISTIC_SOLVER_CONVERGENCE_MSG)\n"
          ],
          "name": "stderr"
        },
        {
          "output_type": "stream",
          "text": [
            "[CV] ............................ kmeans__n_clusters=21, total=  10.6s\n",
            "[CV] kmeans__n_clusters=22 ...........................................\n"
          ],
          "name": "stdout"
        },
        {
          "output_type": "stream",
          "text": [
            "/usr/local/lib/python3.7/dist-packages/sklearn/linear_model/_logistic.py:940: ConvergenceWarning: lbfgs failed to converge (status=1):\n",
            "STOP: TOTAL NO. of ITERATIONS REACHED LIMIT.\n",
            "\n",
            "Increase the number of iterations (max_iter) or scale the data as shown in:\n",
            "    https://scikit-learn.org/stable/modules/preprocessing.html\n",
            "Please also refer to the documentation for alternative solver options:\n",
            "    https://scikit-learn.org/stable/modules/linear_model.html#logistic-regression\n",
            "  extra_warning_msg=_LOGISTIC_SOLVER_CONVERGENCE_MSG)\n"
          ],
          "name": "stderr"
        },
        {
          "output_type": "stream",
          "text": [
            "[CV] ............................ kmeans__n_clusters=22, total=  10.4s\n",
            "[CV] kmeans__n_clusters=22 ...........................................\n",
            "[CV] ............................ kmeans__n_clusters=22, total=   8.0s\n",
            "[CV] kmeans__n_clusters=22 ...........................................\n"
          ],
          "name": "stdout"
        },
        {
          "output_type": "stream",
          "text": [
            "/usr/local/lib/python3.7/dist-packages/sklearn/linear_model/_logistic.py:940: ConvergenceWarning: lbfgs failed to converge (status=1):\n",
            "STOP: TOTAL NO. of ITERATIONS REACHED LIMIT.\n",
            "\n",
            "Increase the number of iterations (max_iter) or scale the data as shown in:\n",
            "    https://scikit-learn.org/stable/modules/preprocessing.html\n",
            "Please also refer to the documentation for alternative solver options:\n",
            "    https://scikit-learn.org/stable/modules/linear_model.html#logistic-regression\n",
            "  extra_warning_msg=_LOGISTIC_SOLVER_CONVERGENCE_MSG)\n"
          ],
          "name": "stderr"
        },
        {
          "output_type": "stream",
          "text": [
            "[CV] ............................ kmeans__n_clusters=22, total=  10.5s\n",
            "[CV] kmeans__n_clusters=23 ...........................................\n",
            "[CV] ............................ kmeans__n_clusters=23, total=   8.2s\n",
            "[CV] kmeans__n_clusters=23 ...........................................\n",
            "[CV] ............................ kmeans__n_clusters=23, total=   7.6s\n",
            "[CV] kmeans__n_clusters=23 ...........................................\n"
          ],
          "name": "stdout"
        },
        {
          "output_type": "stream",
          "text": [
            "/usr/local/lib/python3.7/dist-packages/sklearn/linear_model/_logistic.py:940: ConvergenceWarning: lbfgs failed to converge (status=1):\n",
            "STOP: TOTAL NO. of ITERATIONS REACHED LIMIT.\n",
            "\n",
            "Increase the number of iterations (max_iter) or scale the data as shown in:\n",
            "    https://scikit-learn.org/stable/modules/preprocessing.html\n",
            "Please also refer to the documentation for alternative solver options:\n",
            "    https://scikit-learn.org/stable/modules/linear_model.html#logistic-regression\n",
            "  extra_warning_msg=_LOGISTIC_SOLVER_CONVERGENCE_MSG)\n"
          ],
          "name": "stderr"
        },
        {
          "output_type": "stream",
          "text": [
            "[CV] ............................ kmeans__n_clusters=23, total=  10.5s\n",
            "[CV] kmeans__n_clusters=24 ...........................................\n"
          ],
          "name": "stdout"
        },
        {
          "output_type": "stream",
          "text": [
            "/usr/local/lib/python3.7/dist-packages/sklearn/linear_model/_logistic.py:940: ConvergenceWarning: lbfgs failed to converge (status=1):\n",
            "STOP: TOTAL NO. of ITERATIONS REACHED LIMIT.\n",
            "\n",
            "Increase the number of iterations (max_iter) or scale the data as shown in:\n",
            "    https://scikit-learn.org/stable/modules/preprocessing.html\n",
            "Please also refer to the documentation for alternative solver options:\n",
            "    https://scikit-learn.org/stable/modules/linear_model.html#logistic-regression\n",
            "  extra_warning_msg=_LOGISTIC_SOLVER_CONVERGENCE_MSG)\n"
          ],
          "name": "stderr"
        },
        {
          "output_type": "stream",
          "text": [
            "[CV] ............................ kmeans__n_clusters=24, total=  10.4s\n",
            "[CV] kmeans__n_clusters=24 ...........................................\n",
            "[CV] ............................ kmeans__n_clusters=24, total=   7.3s\n",
            "[CV] kmeans__n_clusters=24 ...........................................\n",
            "[CV] ............................ kmeans__n_clusters=24, total=   7.8s\n",
            "[CV] kmeans__n_clusters=25 ...........................................\n",
            "[CV] ............................ kmeans__n_clusters=25, total=  10.6s\n",
            "[CV] kmeans__n_clusters=25 ...........................................\n"
          ],
          "name": "stdout"
        },
        {
          "output_type": "stream",
          "text": [
            "/usr/local/lib/python3.7/dist-packages/sklearn/linear_model/_logistic.py:940: ConvergenceWarning: lbfgs failed to converge (status=1):\n",
            "STOP: TOTAL NO. of ITERATIONS REACHED LIMIT.\n",
            "\n",
            "Increase the number of iterations (max_iter) or scale the data as shown in:\n",
            "    https://scikit-learn.org/stable/modules/preprocessing.html\n",
            "Please also refer to the documentation for alternative solver options:\n",
            "    https://scikit-learn.org/stable/modules/linear_model.html#logistic-regression\n",
            "  extra_warning_msg=_LOGISTIC_SOLVER_CONVERGENCE_MSG)\n"
          ],
          "name": "stderr"
        },
        {
          "output_type": "stream",
          "text": [
            "[CV] ............................ kmeans__n_clusters=25, total=  10.7s\n",
            "[CV] kmeans__n_clusters=25 ...........................................\n"
          ],
          "name": "stdout"
        },
        {
          "output_type": "stream",
          "text": [
            "/usr/local/lib/python3.7/dist-packages/sklearn/linear_model/_logistic.py:940: ConvergenceWarning: lbfgs failed to converge (status=1):\n",
            "STOP: TOTAL NO. of ITERATIONS REACHED LIMIT.\n",
            "\n",
            "Increase the number of iterations (max_iter) or scale the data as shown in:\n",
            "    https://scikit-learn.org/stable/modules/preprocessing.html\n",
            "Please also refer to the documentation for alternative solver options:\n",
            "    https://scikit-learn.org/stable/modules/linear_model.html#logistic-regression\n",
            "  extra_warning_msg=_LOGISTIC_SOLVER_CONVERGENCE_MSG)\n"
          ],
          "name": "stderr"
        },
        {
          "output_type": "stream",
          "text": [
            "[CV] ............................ kmeans__n_clusters=25, total=  10.7s\n",
            "[CV] kmeans__n_clusters=26 ...........................................\n"
          ],
          "name": "stdout"
        },
        {
          "output_type": "stream",
          "text": [
            "/usr/local/lib/python3.7/dist-packages/sklearn/linear_model/_logistic.py:940: ConvergenceWarning: lbfgs failed to converge (status=1):\n",
            "STOP: TOTAL NO. of ITERATIONS REACHED LIMIT.\n",
            "\n",
            "Increase the number of iterations (max_iter) or scale the data as shown in:\n",
            "    https://scikit-learn.org/stable/modules/preprocessing.html\n",
            "Please also refer to the documentation for alternative solver options:\n",
            "    https://scikit-learn.org/stable/modules/linear_model.html#logistic-regression\n",
            "  extra_warning_msg=_LOGISTIC_SOLVER_CONVERGENCE_MSG)\n"
          ],
          "name": "stderr"
        },
        {
          "output_type": "stream",
          "text": [
            "[CV] ............................ kmeans__n_clusters=26, total=  10.6s\n",
            "[CV] kmeans__n_clusters=26 ...........................................\n",
            "[CV] ............................ kmeans__n_clusters=26, total=   6.5s\n",
            "[CV] kmeans__n_clusters=26 ...........................................\n"
          ],
          "name": "stdout"
        },
        {
          "output_type": "stream",
          "text": [
            "/usr/local/lib/python3.7/dist-packages/sklearn/linear_model/_logistic.py:940: ConvergenceWarning: lbfgs failed to converge (status=1):\n",
            "STOP: TOTAL NO. of ITERATIONS REACHED LIMIT.\n",
            "\n",
            "Increase the number of iterations (max_iter) or scale the data as shown in:\n",
            "    https://scikit-learn.org/stable/modules/preprocessing.html\n",
            "Please also refer to the documentation for alternative solver options:\n",
            "    https://scikit-learn.org/stable/modules/linear_model.html#logistic-regression\n",
            "  extra_warning_msg=_LOGISTIC_SOLVER_CONVERGENCE_MSG)\n"
          ],
          "name": "stderr"
        },
        {
          "output_type": "stream",
          "text": [
            "[CV] ............................ kmeans__n_clusters=26, total=  10.6s\n",
            "[CV] kmeans__n_clusters=27 ...........................................\n",
            "[CV] ............................ kmeans__n_clusters=27, total=   7.7s\n",
            "[CV] kmeans__n_clusters=27 ...........................................\n",
            "[CV] ............................ kmeans__n_clusters=27, total=   7.1s\n",
            "[CV] kmeans__n_clusters=27 ...........................................\n"
          ],
          "name": "stdout"
        },
        {
          "output_type": "stream",
          "text": [
            "/usr/local/lib/python3.7/dist-packages/sklearn/linear_model/_logistic.py:940: ConvergenceWarning: lbfgs failed to converge (status=1):\n",
            "STOP: TOTAL NO. of ITERATIONS REACHED LIMIT.\n",
            "\n",
            "Increase the number of iterations (max_iter) or scale the data as shown in:\n",
            "    https://scikit-learn.org/stable/modules/preprocessing.html\n",
            "Please also refer to the documentation for alternative solver options:\n",
            "    https://scikit-learn.org/stable/modules/linear_model.html#logistic-regression\n",
            "  extra_warning_msg=_LOGISTIC_SOLVER_CONVERGENCE_MSG)\n"
          ],
          "name": "stderr"
        },
        {
          "output_type": "stream",
          "text": [
            "[CV] ............................ kmeans__n_clusters=27, total=  10.7s\n",
            "[CV] kmeans__n_clusters=28 ...........................................\n",
            "[CV] ............................ kmeans__n_clusters=28, total=  10.2s\n",
            "[CV] kmeans__n_clusters=28 ...........................................\n"
          ],
          "name": "stdout"
        },
        {
          "output_type": "stream",
          "text": [
            "/usr/local/lib/python3.7/dist-packages/sklearn/linear_model/_logistic.py:940: ConvergenceWarning: lbfgs failed to converge (status=1):\n",
            "STOP: TOTAL NO. of ITERATIONS REACHED LIMIT.\n",
            "\n",
            "Increase the number of iterations (max_iter) or scale the data as shown in:\n",
            "    https://scikit-learn.org/stable/modules/preprocessing.html\n",
            "Please also refer to the documentation for alternative solver options:\n",
            "    https://scikit-learn.org/stable/modules/linear_model.html#logistic-regression\n",
            "  extra_warning_msg=_LOGISTIC_SOLVER_CONVERGENCE_MSG)\n"
          ],
          "name": "stderr"
        },
        {
          "output_type": "stream",
          "text": [
            "[CV] ............................ kmeans__n_clusters=28, total=  10.6s\n",
            "[CV] kmeans__n_clusters=28 ...........................................\n",
            "[CV] ............................ kmeans__n_clusters=28, total=   9.0s\n",
            "[CV] kmeans__n_clusters=29 ...........................................\n",
            "[CV] ............................ kmeans__n_clusters=29, total=   7.4s\n",
            "[CV] kmeans__n_clusters=29 ...........................................\n",
            "[CV] ............................ kmeans__n_clusters=29, total=   8.2s\n",
            "[CV] kmeans__n_clusters=29 ...........................................\n"
          ],
          "name": "stdout"
        },
        {
          "output_type": "stream",
          "text": [
            "/usr/local/lib/python3.7/dist-packages/sklearn/linear_model/_logistic.py:940: ConvergenceWarning: lbfgs failed to converge (status=1):\n",
            "STOP: TOTAL NO. of ITERATIONS REACHED LIMIT.\n",
            "\n",
            "Increase the number of iterations (max_iter) or scale the data as shown in:\n",
            "    https://scikit-learn.org/stable/modules/preprocessing.html\n",
            "Please also refer to the documentation for alternative solver options:\n",
            "    https://scikit-learn.org/stable/modules/linear_model.html#logistic-regression\n",
            "  extra_warning_msg=_LOGISTIC_SOLVER_CONVERGENCE_MSG)\n"
          ],
          "name": "stderr"
        },
        {
          "output_type": "stream",
          "text": [
            "[CV] ............................ kmeans__n_clusters=29, total=  10.8s\n",
            "[CV] kmeans__n_clusters=30 ...........................................\n",
            "[CV] ............................ kmeans__n_clusters=30, total=   9.2s\n",
            "[CV] kmeans__n_clusters=30 ...........................................\n",
            "[CV] ............................ kmeans__n_clusters=30, total=   7.9s\n",
            "[CV] kmeans__n_clusters=30 ...........................................\n",
            "[CV] ............................ kmeans__n_clusters=30, total=  10.5s\n",
            "[CV] kmeans__n_clusters=31 ...........................................\n",
            "[CV] ............................ kmeans__n_clusters=31, total=  12.9s\n",
            "[CV] kmeans__n_clusters=31 ...........................................\n",
            "[CV] ............................ kmeans__n_clusters=31, total=  15.8s\n",
            "[CV] kmeans__n_clusters=31 ...........................................\n"
          ],
          "name": "stdout"
        },
        {
          "output_type": "stream",
          "text": [
            "/usr/local/lib/python3.7/dist-packages/sklearn/linear_model/_logistic.py:940: ConvergenceWarning: lbfgs failed to converge (status=1):\n",
            "STOP: TOTAL NO. of ITERATIONS REACHED LIMIT.\n",
            "\n",
            "Increase the number of iterations (max_iter) or scale the data as shown in:\n",
            "    https://scikit-learn.org/stable/modules/preprocessing.html\n",
            "Please also refer to the documentation for alternative solver options:\n",
            "    https://scikit-learn.org/stable/modules/linear_model.html#logistic-regression\n",
            "  extra_warning_msg=_LOGISTIC_SOLVER_CONVERGENCE_MSG)\n"
          ],
          "name": "stderr"
        },
        {
          "output_type": "stream",
          "text": [
            "[CV] ............................ kmeans__n_clusters=31, total=  17.2s\n",
            "[CV] kmeans__n_clusters=32 ...........................................\n",
            "[CV] ............................ kmeans__n_clusters=32, total=  10.9s\n",
            "[CV] kmeans__n_clusters=32 ...........................................\n"
          ],
          "name": "stdout"
        },
        {
          "output_type": "stream",
          "text": [
            "/usr/local/lib/python3.7/dist-packages/sklearn/linear_model/_logistic.py:940: ConvergenceWarning: lbfgs failed to converge (status=1):\n",
            "STOP: TOTAL NO. of ITERATIONS REACHED LIMIT.\n",
            "\n",
            "Increase the number of iterations (max_iter) or scale the data as shown in:\n",
            "    https://scikit-learn.org/stable/modules/preprocessing.html\n",
            "Please also refer to the documentation for alternative solver options:\n",
            "    https://scikit-learn.org/stable/modules/linear_model.html#logistic-regression\n",
            "  extra_warning_msg=_LOGISTIC_SOLVER_CONVERGENCE_MSG)\n"
          ],
          "name": "stderr"
        },
        {
          "output_type": "stream",
          "text": [
            "[CV] ............................ kmeans__n_clusters=32, total=  17.2s\n",
            "[CV] kmeans__n_clusters=32 ...........................................\n",
            "[CV] ............................ kmeans__n_clusters=32, total=  15.2s\n",
            "[CV] kmeans__n_clusters=33 ...........................................\n",
            "[CV] ............................ kmeans__n_clusters=33, total=  13.8s\n",
            "[CV] kmeans__n_clusters=33 ...........................................\n",
            "[CV] ............................ kmeans__n_clusters=33, total=  12.0s\n",
            "[CV] kmeans__n_clusters=33 ...........................................\n",
            "[CV] ............................ kmeans__n_clusters=33, total=  14.0s\n",
            "[CV] kmeans__n_clusters=34 ...........................................\n",
            "[CV] ............................ kmeans__n_clusters=34, total=  13.7s\n",
            "[CV] kmeans__n_clusters=34 ...........................................\n",
            "[CV] ............................ kmeans__n_clusters=34, total=   9.8s\n",
            "[CV] kmeans__n_clusters=34 ...........................................\n",
            "[CV] ............................ kmeans__n_clusters=34, total=  15.4s\n",
            "[CV] kmeans__n_clusters=35 ...........................................\n",
            "[CV] ............................ kmeans__n_clusters=35, total=  11.1s\n",
            "[CV] kmeans__n_clusters=35 ...........................................\n",
            "[CV] ............................ kmeans__n_clusters=35, total=  15.5s\n",
            "[CV] kmeans__n_clusters=35 ...........................................\n",
            "[CV] ............................ kmeans__n_clusters=35, total=  10.4s\n",
            "[CV] kmeans__n_clusters=36 ...........................................\n",
            "[CV] ............................ kmeans__n_clusters=36, total=  10.5s\n",
            "[CV] kmeans__n_clusters=36 ...........................................\n",
            "[CV] ............................ kmeans__n_clusters=36, total=  16.2s\n",
            "[CV] kmeans__n_clusters=36 ...........................................\n",
            "[CV] ............................ kmeans__n_clusters=36, total=  13.4s\n",
            "[CV] kmeans__n_clusters=37 ...........................................\n",
            "[CV] ............................ kmeans__n_clusters=37, total=  14.3s\n",
            "[CV] kmeans__n_clusters=37 ...........................................\n",
            "[CV] ............................ kmeans__n_clusters=37, total=  12.7s\n",
            "[CV] kmeans__n_clusters=37 ...........................................\n",
            "[CV] ............................ kmeans__n_clusters=37, total=   9.3s\n",
            "[CV] kmeans__n_clusters=38 ...........................................\n",
            "[CV] ............................ kmeans__n_clusters=38, total=  16.4s\n",
            "[CV] kmeans__n_clusters=38 ...........................................\n"
          ],
          "name": "stdout"
        },
        {
          "output_type": "stream",
          "text": [
            "/usr/local/lib/python3.7/dist-packages/sklearn/linear_model/_logistic.py:940: ConvergenceWarning: lbfgs failed to converge (status=1):\n",
            "STOP: TOTAL NO. of ITERATIONS REACHED LIMIT.\n",
            "\n",
            "Increase the number of iterations (max_iter) or scale the data as shown in:\n",
            "    https://scikit-learn.org/stable/modules/preprocessing.html\n",
            "Please also refer to the documentation for alternative solver options:\n",
            "    https://scikit-learn.org/stable/modules/linear_model.html#logistic-regression\n",
            "  extra_warning_msg=_LOGISTIC_SOLVER_CONVERGENCE_MSG)\n"
          ],
          "name": "stderr"
        },
        {
          "output_type": "stream",
          "text": [
            "[CV] ............................ kmeans__n_clusters=38, total=  17.7s\n",
            "[CV] kmeans__n_clusters=38 ...........................................\n"
          ],
          "name": "stdout"
        },
        {
          "output_type": "stream",
          "text": [
            "/usr/local/lib/python3.7/dist-packages/sklearn/linear_model/_logistic.py:940: ConvergenceWarning: lbfgs failed to converge (status=1):\n",
            "STOP: TOTAL NO. of ITERATIONS REACHED LIMIT.\n",
            "\n",
            "Increase the number of iterations (max_iter) or scale the data as shown in:\n",
            "    https://scikit-learn.org/stable/modules/preprocessing.html\n",
            "Please also refer to the documentation for alternative solver options:\n",
            "    https://scikit-learn.org/stable/modules/linear_model.html#logistic-regression\n",
            "  extra_warning_msg=_LOGISTIC_SOLVER_CONVERGENCE_MSG)\n"
          ],
          "name": "stderr"
        },
        {
          "output_type": "stream",
          "text": [
            "[CV] ............................ kmeans__n_clusters=38, total=  17.7s\n",
            "[CV] kmeans__n_clusters=39 ...........................................\n",
            "[CV] ............................ kmeans__n_clusters=39, total=  14.3s\n",
            "[CV] kmeans__n_clusters=39 ...........................................\n",
            "[CV] ............................ kmeans__n_clusters=39, total=  11.6s\n",
            "[CV] kmeans__n_clusters=39 ...........................................\n",
            "[CV] ............................ kmeans__n_clusters=39, total=  11.0s\n",
            "[CV] kmeans__n_clusters=40 ...........................................\n",
            "[CV] ............................ kmeans__n_clusters=40, total=  12.6s\n",
            "[CV] kmeans__n_clusters=40 ...........................................\n",
            "[CV] ............................ kmeans__n_clusters=40, total=  12.0s\n",
            "[CV] kmeans__n_clusters=40 ...........................................\n"
          ],
          "name": "stdout"
        },
        {
          "output_type": "stream",
          "text": [
            "/usr/local/lib/python3.7/dist-packages/sklearn/linear_model/_logistic.py:940: ConvergenceWarning: lbfgs failed to converge (status=1):\n",
            "STOP: TOTAL NO. of ITERATIONS REACHED LIMIT.\n",
            "\n",
            "Increase the number of iterations (max_iter) or scale the data as shown in:\n",
            "    https://scikit-learn.org/stable/modules/preprocessing.html\n",
            "Please also refer to the documentation for alternative solver options:\n",
            "    https://scikit-learn.org/stable/modules/linear_model.html#logistic-regression\n",
            "  extra_warning_msg=_LOGISTIC_SOLVER_CONVERGENCE_MSG)\n"
          ],
          "name": "stderr"
        },
        {
          "output_type": "stream",
          "text": [
            "[CV] ............................ kmeans__n_clusters=40, total=  17.7s\n",
            "[CV] kmeans__n_clusters=41 ...........................................\n"
          ],
          "name": "stdout"
        },
        {
          "output_type": "stream",
          "text": [
            "/usr/local/lib/python3.7/dist-packages/sklearn/linear_model/_logistic.py:940: ConvergenceWarning: lbfgs failed to converge (status=1):\n",
            "STOP: TOTAL NO. of ITERATIONS REACHED LIMIT.\n",
            "\n",
            "Increase the number of iterations (max_iter) or scale the data as shown in:\n",
            "    https://scikit-learn.org/stable/modules/preprocessing.html\n",
            "Please also refer to the documentation for alternative solver options:\n",
            "    https://scikit-learn.org/stable/modules/linear_model.html#logistic-regression\n",
            "  extra_warning_msg=_LOGISTIC_SOLVER_CONVERGENCE_MSG)\n"
          ],
          "name": "stderr"
        },
        {
          "output_type": "stream",
          "text": [
            "[CV] ............................ kmeans__n_clusters=41, total=  17.8s\n",
            "[CV] kmeans__n_clusters=41 ...........................................\n",
            "[CV] ............................ kmeans__n_clusters=41, total=   9.3s\n",
            "[CV] kmeans__n_clusters=41 ...........................................\n",
            "[CV] ............................ kmeans__n_clusters=41, total=   9.9s\n",
            "[CV] kmeans__n_clusters=42 ...........................................\n",
            "[CV] ............................ kmeans__n_clusters=42, total=   6.5s\n",
            "[CV] kmeans__n_clusters=42 ...........................................\n",
            "[CV] ............................ kmeans__n_clusters=42, total=  17.9s\n",
            "[CV] kmeans__n_clusters=42 ...........................................\n",
            "[CV] ............................ kmeans__n_clusters=42, total=  17.9s\n",
            "[CV] kmeans__n_clusters=43 ...........................................\n",
            "[CV] ............................ kmeans__n_clusters=43, total=   9.5s\n",
            "[CV] kmeans__n_clusters=43 ...........................................\n",
            "[CV] ............................ kmeans__n_clusters=43, total=   9.7s\n",
            "[CV] kmeans__n_clusters=43 ...........................................\n",
            "[CV] ............................ kmeans__n_clusters=43, total=  12.2s\n",
            "[CV] kmeans__n_clusters=44 ...........................................\n",
            "[CV] ............................ kmeans__n_clusters=44, total=   5.9s\n",
            "[CV] kmeans__n_clusters=44 ...........................................\n",
            "[CV] ............................ kmeans__n_clusters=44, total=   8.3s\n",
            "[CV] kmeans__n_clusters=44 ...........................................\n",
            "[CV] ............................ kmeans__n_clusters=44, total=  17.0s\n",
            "[CV] kmeans__n_clusters=45 ...........................................\n",
            "[CV] ............................ kmeans__n_clusters=45, total=   9.9s\n",
            "[CV] kmeans__n_clusters=45 ...........................................\n",
            "[CV] ............................ kmeans__n_clusters=45, total=  12.0s\n",
            "[CV] kmeans__n_clusters=45 ...........................................\n",
            "[CV] ............................ kmeans__n_clusters=45, total=  12.7s\n",
            "[CV] kmeans__n_clusters=46 ...........................................\n",
            "[CV] ............................ kmeans__n_clusters=46, total=   6.1s\n",
            "[CV] kmeans__n_clusters=46 ...........................................\n",
            "[CV] ............................ kmeans__n_clusters=46, total=  13.8s\n",
            "[CV] kmeans__n_clusters=46 ...........................................\n",
            "[CV] ............................ kmeans__n_clusters=46, total=   9.9s\n",
            "[CV] kmeans__n_clusters=47 ...........................................\n",
            "[CV] ............................ kmeans__n_clusters=47, total=  10.2s\n",
            "[CV] kmeans__n_clusters=47 ...........................................\n",
            "[CV] ............................ kmeans__n_clusters=47, total=   6.0s\n",
            "[CV] kmeans__n_clusters=47 ...........................................\n",
            "[CV] ............................ kmeans__n_clusters=47, total=  17.2s\n",
            "[CV] kmeans__n_clusters=48 ...........................................\n",
            "[CV] ............................ kmeans__n_clusters=48, total=  14.0s\n",
            "[CV] kmeans__n_clusters=48 ...........................................\n",
            "[CV] ............................ kmeans__n_clusters=48, total=   8.1s\n",
            "[CV] kmeans__n_clusters=48 ...........................................\n",
            "[CV] ............................ kmeans__n_clusters=48, total=  11.6s\n",
            "[CV] kmeans__n_clusters=49 ...........................................\n",
            "[CV] ............................ kmeans__n_clusters=49, total=  10.0s\n",
            "[CV] kmeans__n_clusters=49 ...........................................\n",
            "[CV] ............................ kmeans__n_clusters=49, total=  14.1s\n",
            "[CV] kmeans__n_clusters=49 ...........................................\n",
            "[CV] ............................ kmeans__n_clusters=49, total=  16.1s\n",
            "[CV] kmeans__n_clusters=50 ...........................................\n",
            "[CV] ............................ kmeans__n_clusters=50, total=   6.8s\n",
            "[CV] kmeans__n_clusters=50 ...........................................\n",
            "[CV] ............................ kmeans__n_clusters=50, total=  15.5s\n",
            "[CV] kmeans__n_clusters=50 ...........................................\n",
            "[CV] ............................ kmeans__n_clusters=50, total=  10.2s\n",
            "[CV] kmeans__n_clusters=51 ...........................................\n",
            "[CV] ............................ kmeans__n_clusters=51, total=   6.2s\n",
            "[CV] kmeans__n_clusters=51 ...........................................\n",
            "[CV] ............................ kmeans__n_clusters=51, total=  12.6s\n",
            "[CV] kmeans__n_clusters=51 ...........................................\n"
          ],
          "name": "stdout"
        },
        {
          "output_type": "stream",
          "text": [
            "/usr/local/lib/python3.7/dist-packages/sklearn/linear_model/_logistic.py:940: ConvergenceWarning: lbfgs failed to converge (status=1):\n",
            "STOP: TOTAL NO. of ITERATIONS REACHED LIMIT.\n",
            "\n",
            "Increase the number of iterations (max_iter) or scale the data as shown in:\n",
            "    https://scikit-learn.org/stable/modules/preprocessing.html\n",
            "Please also refer to the documentation for alternative solver options:\n",
            "    https://scikit-learn.org/stable/modules/linear_model.html#logistic-regression\n",
            "  extra_warning_msg=_LOGISTIC_SOLVER_CONVERGENCE_MSG)\n"
          ],
          "name": "stderr"
        },
        {
          "output_type": "stream",
          "text": [
            "[CV] ............................ kmeans__n_clusters=51, total=  18.5s\n",
            "[CV] kmeans__n_clusters=52 ...........................................\n",
            "[CV] ............................ kmeans__n_clusters=52, total=  12.9s\n",
            "[CV] kmeans__n_clusters=52 ...........................................\n"
          ],
          "name": "stdout"
        },
        {
          "output_type": "stream",
          "text": [
            "/usr/local/lib/python3.7/dist-packages/sklearn/linear_model/_logistic.py:940: ConvergenceWarning: lbfgs failed to converge (status=1):\n",
            "STOP: TOTAL NO. of ITERATIONS REACHED LIMIT.\n",
            "\n",
            "Increase the number of iterations (max_iter) or scale the data as shown in:\n",
            "    https://scikit-learn.org/stable/modules/preprocessing.html\n",
            "Please also refer to the documentation for alternative solver options:\n",
            "    https://scikit-learn.org/stable/modules/linear_model.html#logistic-regression\n",
            "  extra_warning_msg=_LOGISTIC_SOLVER_CONVERGENCE_MSG)\n"
          ],
          "name": "stderr"
        },
        {
          "output_type": "stream",
          "text": [
            "[CV] ............................ kmeans__n_clusters=52, total=  18.5s\n",
            "[CV] kmeans__n_clusters=52 ...........................................\n",
            "[CV] ............................ kmeans__n_clusters=52, total=  10.2s\n",
            "[CV] kmeans__n_clusters=53 ...........................................\n",
            "[CV] ............................ kmeans__n_clusters=53, total=  10.0s\n",
            "[CV] kmeans__n_clusters=53 ...........................................\n",
            "[CV] ............................ kmeans__n_clusters=53, total=   8.8s\n",
            "[CV] kmeans__n_clusters=53 ...........................................\n",
            "[CV] ............................ kmeans__n_clusters=53, total=  12.9s\n",
            "[CV] kmeans__n_clusters=54 ...........................................\n",
            "[CV] ............................ kmeans__n_clusters=54, total=  12.6s\n",
            "[CV] kmeans__n_clusters=54 ...........................................\n",
            "[CV] ............................ kmeans__n_clusters=54, total=   8.4s\n",
            "[CV] kmeans__n_clusters=54 ...........................................\n",
            "[CV] ............................ kmeans__n_clusters=54, total=   9.9s\n",
            "[CV] kmeans__n_clusters=55 ...........................................\n",
            "[CV] ............................ kmeans__n_clusters=55, total=   9.7s\n",
            "[CV] kmeans__n_clusters=55 ...........................................\n",
            "[CV] ............................ kmeans__n_clusters=55, total=  16.8s\n",
            "[CV] kmeans__n_clusters=55 ...........................................\n",
            "[CV] ............................ kmeans__n_clusters=55, total=  14.7s\n",
            "[CV] kmeans__n_clusters=56 ...........................................\n",
            "[CV] ............................ kmeans__n_clusters=56, total=  13.4s\n",
            "[CV] kmeans__n_clusters=56 ...........................................\n",
            "[CV] ............................ kmeans__n_clusters=56, total=   9.0s\n",
            "[CV] kmeans__n_clusters=56 ...........................................\n",
            "[CV] ............................ kmeans__n_clusters=56, total=  18.9s\n",
            "[CV] kmeans__n_clusters=57 ...........................................\n",
            "[CV] ............................ kmeans__n_clusters=57, total=  11.3s\n",
            "[CV] kmeans__n_clusters=57 ...........................................\n",
            "[CV] ............................ kmeans__n_clusters=57, total=   7.6s\n",
            "[CV] kmeans__n_clusters=57 ...........................................\n",
            "[CV] ............................ kmeans__n_clusters=57, total=  14.9s\n",
            "[CV] kmeans__n_clusters=58 ...........................................\n",
            "[CV] ............................ kmeans__n_clusters=58, total=   6.3s\n",
            "[CV] kmeans__n_clusters=58 ...........................................\n",
            "[CV] ............................ kmeans__n_clusters=58, total=   6.2s\n",
            "[CV] kmeans__n_clusters=58 ...........................................\n",
            "[CV] ............................ kmeans__n_clusters=58, total=  12.2s\n",
            "[CV] kmeans__n_clusters=59 ...........................................\n",
            "[CV] ............................ kmeans__n_clusters=59, total=  17.1s\n",
            "[CV] kmeans__n_clusters=59 ...........................................\n"
          ],
          "name": "stdout"
        },
        {
          "output_type": "stream",
          "text": [
            "/usr/local/lib/python3.7/dist-packages/sklearn/linear_model/_logistic.py:940: ConvergenceWarning: lbfgs failed to converge (status=1):\n",
            "STOP: TOTAL NO. of ITERATIONS REACHED LIMIT.\n",
            "\n",
            "Increase the number of iterations (max_iter) or scale the data as shown in:\n",
            "    https://scikit-learn.org/stable/modules/preprocessing.html\n",
            "Please also refer to the documentation for alternative solver options:\n",
            "    https://scikit-learn.org/stable/modules/linear_model.html#logistic-regression\n",
            "  extra_warning_msg=_LOGISTIC_SOLVER_CONVERGENCE_MSG)\n"
          ],
          "name": "stderr"
        },
        {
          "output_type": "stream",
          "text": [
            "[CV] ............................ kmeans__n_clusters=59, total=  19.1s\n",
            "[CV] kmeans__n_clusters=59 ...........................................\n",
            "[CV] ............................ kmeans__n_clusters=59, total=  10.0s\n",
            "[CV] kmeans__n_clusters=60 ...........................................\n",
            "[CV] ............................ kmeans__n_clusters=60, total=   6.5s\n",
            "[CV] kmeans__n_clusters=60 ...........................................\n"
          ],
          "name": "stdout"
        },
        {
          "output_type": "stream",
          "text": [
            "/usr/local/lib/python3.7/dist-packages/sklearn/linear_model/_logistic.py:940: ConvergenceWarning: lbfgs failed to converge (status=1):\n",
            "STOP: TOTAL NO. of ITERATIONS REACHED LIMIT.\n",
            "\n",
            "Increase the number of iterations (max_iter) or scale the data as shown in:\n",
            "    https://scikit-learn.org/stable/modules/preprocessing.html\n",
            "Please also refer to the documentation for alternative solver options:\n",
            "    https://scikit-learn.org/stable/modules/linear_model.html#logistic-regression\n",
            "  extra_warning_msg=_LOGISTIC_SOLVER_CONVERGENCE_MSG)\n"
          ],
          "name": "stderr"
        },
        {
          "output_type": "stream",
          "text": [
            "[CV] ............................ kmeans__n_clusters=60, total=  19.3s\n",
            "[CV] kmeans__n_clusters=60 ...........................................\n",
            "[CV] ............................ kmeans__n_clusters=60, total=  12.3s\n",
            "[CV] kmeans__n_clusters=61 ...........................................\n",
            "[CV] ............................ kmeans__n_clusters=61, total=  12.9s\n",
            "[CV] kmeans__n_clusters=61 ...........................................\n",
            "[CV] ............................ kmeans__n_clusters=61, total=  14.7s\n",
            "[CV] kmeans__n_clusters=61 ...........................................\n",
            "[CV] ............................ kmeans__n_clusters=61, total=  12.4s\n",
            "[CV] kmeans__n_clusters=62 ...........................................\n",
            "[CV] ............................ kmeans__n_clusters=62, total=  19.0s\n",
            "[CV] kmeans__n_clusters=62 ...........................................\n",
            "[CV] ............................ kmeans__n_clusters=62, total=  11.6s\n",
            "[CV] kmeans__n_clusters=62 ...........................................\n",
            "[CV] ............................ kmeans__n_clusters=62, total=  17.9s\n",
            "[CV] kmeans__n_clusters=63 ...........................................\n",
            "[CV] ............................ kmeans__n_clusters=63, total=  11.9s\n",
            "[CV] kmeans__n_clusters=63 ...........................................\n",
            "[CV] ............................ kmeans__n_clusters=63, total=  13.0s\n",
            "[CV] kmeans__n_clusters=63 ...........................................\n",
            "[CV] ............................ kmeans__n_clusters=63, total=  14.4s\n",
            "[CV] kmeans__n_clusters=64 ...........................................\n",
            "[CV] ............................ kmeans__n_clusters=64, total=   6.8s\n",
            "[CV] kmeans__n_clusters=64 ...........................................\n",
            "[CV] ............................ kmeans__n_clusters=64, total=  14.0s\n",
            "[CV] kmeans__n_clusters=64 ...........................................\n",
            "[CV] ............................ kmeans__n_clusters=64, total=  12.4s\n",
            "[CV] kmeans__n_clusters=65 ...........................................\n",
            "[CV] ............................ kmeans__n_clusters=65, total=  10.7s\n",
            "[CV] kmeans__n_clusters=65 ...........................................\n",
            "[CV] ............................ kmeans__n_clusters=65, total=   8.1s\n",
            "[CV] kmeans__n_clusters=65 ...........................................\n",
            "[CV] ............................ kmeans__n_clusters=65, total=  12.9s\n",
            "[CV] kmeans__n_clusters=66 ...........................................\n",
            "[CV] ............................ kmeans__n_clusters=66, total=  12.5s\n",
            "[CV] kmeans__n_clusters=66 ...........................................\n",
            "[CV] ............................ kmeans__n_clusters=66, total=   6.8s\n",
            "[CV] kmeans__n_clusters=66 ...........................................\n",
            "[CV] ............................ kmeans__n_clusters=66, total=   7.7s\n",
            "[CV] kmeans__n_clusters=67 ...........................................\n",
            "[CV] ............................ kmeans__n_clusters=67, total=   7.1s\n",
            "[CV] kmeans__n_clusters=67 ...........................................\n",
            "[CV] ............................ kmeans__n_clusters=67, total=  13.3s\n",
            "[CV] kmeans__n_clusters=67 ...........................................\n",
            "[CV] ............................ kmeans__n_clusters=67, total=  11.8s\n",
            "[CV] kmeans__n_clusters=68 ...........................................\n",
            "[CV] ............................ kmeans__n_clusters=68, total=   9.6s\n",
            "[CV] kmeans__n_clusters=68 ...........................................\n",
            "[CV] ............................ kmeans__n_clusters=68, total=  10.0s\n",
            "[CV] kmeans__n_clusters=68 ...........................................\n",
            "[CV] ............................ kmeans__n_clusters=68, total=   7.7s\n",
            "[CV] kmeans__n_clusters=69 ...........................................\n",
            "[CV] ............................ kmeans__n_clusters=69, total=   9.0s\n",
            "[CV] kmeans__n_clusters=69 ...........................................\n",
            "[CV] ............................ kmeans__n_clusters=69, total=  16.8s\n",
            "[CV] kmeans__n_clusters=69 ...........................................\n",
            "[CV] ............................ kmeans__n_clusters=69, total=  15.2s\n",
            "[CV] kmeans__n_clusters=70 ...........................................\n",
            "[CV] ............................ kmeans__n_clusters=70, total=  14.3s\n",
            "[CV] kmeans__n_clusters=70 ...........................................\n",
            "[CV] ............................ kmeans__n_clusters=70, total=  11.2s\n",
            "[CV] kmeans__n_clusters=70 ...........................................\n",
            "[CV] ............................ kmeans__n_clusters=70, total=  18.6s\n",
            "[CV] kmeans__n_clusters=71 ...........................................\n",
            "[CV] ............................ kmeans__n_clusters=71, total=  11.9s\n",
            "[CV] kmeans__n_clusters=71 ...........................................\n",
            "[CV] ............................ kmeans__n_clusters=71, total=  10.5s\n",
            "[CV] kmeans__n_clusters=71 ...........................................\n",
            "[CV] ............................ kmeans__n_clusters=71, total=  11.6s\n",
            "[CV] kmeans__n_clusters=72 ...........................................\n",
            "[CV] ............................ kmeans__n_clusters=72, total=   7.4s\n",
            "[CV] kmeans__n_clusters=72 ...........................................\n",
            "[CV] ............................ kmeans__n_clusters=72, total=  18.2s\n",
            "[CV] kmeans__n_clusters=72 ...........................................\n",
            "[CV] ............................ kmeans__n_clusters=72, total=  15.6s\n",
            "[CV] kmeans__n_clusters=73 ...........................................\n",
            "[CV] ............................ kmeans__n_clusters=73, total=   7.1s\n",
            "[CV] kmeans__n_clusters=73 ...........................................\n",
            "[CV] ............................ kmeans__n_clusters=73, total=  10.2s\n",
            "[CV] kmeans__n_clusters=73 ...........................................\n",
            "[CV] ............................ kmeans__n_clusters=73, total=  15.2s\n",
            "[CV] kmeans__n_clusters=74 ...........................................\n",
            "[CV] ............................ kmeans__n_clusters=74, total=  10.7s\n",
            "[CV] kmeans__n_clusters=74 ...........................................\n",
            "[CV] ............................ kmeans__n_clusters=74, total=   9.8s\n",
            "[CV] kmeans__n_clusters=74 ...........................................\n",
            "[CV] ............................ kmeans__n_clusters=74, total=  11.0s\n",
            "[CV] kmeans__n_clusters=75 ...........................................\n",
            "[CV] ............................ kmeans__n_clusters=75, total=  12.6s\n",
            "[CV] kmeans__n_clusters=75 ...........................................\n",
            "[CV] ............................ kmeans__n_clusters=75, total=  11.9s\n",
            "[CV] kmeans__n_clusters=75 ...........................................\n",
            "[CV] ............................ kmeans__n_clusters=75, total=  14.6s\n",
            "[CV] kmeans__n_clusters=76 ...........................................\n",
            "[CV] ............................ kmeans__n_clusters=76, total=  18.5s\n",
            "[CV] kmeans__n_clusters=76 ...........................................\n",
            "[CV] ............................ kmeans__n_clusters=76, total=  14.7s\n",
            "[CV] kmeans__n_clusters=76 ...........................................\n",
            "[CV] ............................ kmeans__n_clusters=76, total=   9.1s\n",
            "[CV] kmeans__n_clusters=77 ...........................................\n",
            "[CV] ............................ kmeans__n_clusters=77, total=  12.1s\n",
            "[CV] kmeans__n_clusters=77 ...........................................\n",
            "[CV] ............................ kmeans__n_clusters=77, total=   6.8s\n",
            "[CV] kmeans__n_clusters=77 ...........................................\n",
            "[CV] ............................ kmeans__n_clusters=77, total=  19.7s\n",
            "[CV] kmeans__n_clusters=78 ...........................................\n",
            "[CV] ............................ kmeans__n_clusters=78, total=  10.8s\n",
            "[CV] kmeans__n_clusters=78 ...........................................\n",
            "[CV] ............................ kmeans__n_clusters=78, total=   9.8s\n",
            "[CV] kmeans__n_clusters=78 ...........................................\n",
            "[CV] ............................ kmeans__n_clusters=78, total=  13.3s\n",
            "[CV] kmeans__n_clusters=79 ...........................................\n",
            "[CV] ............................ kmeans__n_clusters=79, total=  19.4s\n",
            "[CV] kmeans__n_clusters=79 ...........................................\n",
            "[CV] ............................ kmeans__n_clusters=79, total=   7.3s\n",
            "[CV] kmeans__n_clusters=79 ...........................................\n",
            "[CV] ............................ kmeans__n_clusters=79, total=   8.9s\n",
            "[CV] kmeans__n_clusters=80 ...........................................\n",
            "[CV] ............................ kmeans__n_clusters=80, total=  10.6s\n",
            "[CV] kmeans__n_clusters=80 ...........................................\n",
            "[CV] ............................ kmeans__n_clusters=80, total=   6.8s\n",
            "[CV] kmeans__n_clusters=80 ...........................................\n",
            "[CV] ............................ kmeans__n_clusters=80, total=   9.6s\n",
            "[CV] kmeans__n_clusters=81 ...........................................\n",
            "[CV] ............................ kmeans__n_clusters=81, total=   7.4s\n",
            "[CV] kmeans__n_clusters=81 ...........................................\n",
            "[CV] ............................ kmeans__n_clusters=81, total=  10.8s\n",
            "[CV] kmeans__n_clusters=81 ...........................................\n",
            "[CV] ............................ kmeans__n_clusters=81, total=  11.7s\n",
            "[CV] kmeans__n_clusters=82 ...........................................\n",
            "[CV] ............................ kmeans__n_clusters=82, total=  16.2s\n",
            "[CV] kmeans__n_clusters=82 ...........................................\n",
            "[CV] ............................ kmeans__n_clusters=82, total=   9.7s\n",
            "[CV] kmeans__n_clusters=82 ...........................................\n",
            "[CV] ............................ kmeans__n_clusters=82, total=  10.9s\n",
            "[CV] kmeans__n_clusters=83 ...........................................\n",
            "[CV] ............................ kmeans__n_clusters=83, total=   7.1s\n",
            "[CV] kmeans__n_clusters=83 ...........................................\n",
            "[CV] ............................ kmeans__n_clusters=83, total=   8.2s\n",
            "[CV] kmeans__n_clusters=83 ...........................................\n",
            "[CV] ............................ kmeans__n_clusters=83, total=   7.6s\n",
            "[CV] kmeans__n_clusters=84 ...........................................\n",
            "[CV] ............................ kmeans__n_clusters=84, total=  12.9s\n",
            "[CV] kmeans__n_clusters=84 ...........................................\n",
            "[CV] ............................ kmeans__n_clusters=84, total=   8.5s\n",
            "[CV] kmeans__n_clusters=84 ...........................................\n",
            "[CV] ............................ kmeans__n_clusters=84, total=  13.4s\n",
            "[CV] kmeans__n_clusters=85 ...........................................\n",
            "[CV] ............................ kmeans__n_clusters=85, total=   9.1s\n",
            "[CV] kmeans__n_clusters=85 ...........................................\n",
            "[CV] ............................ kmeans__n_clusters=85, total=  11.3s\n",
            "[CV] kmeans__n_clusters=85 ...........................................\n",
            "[CV] ............................ kmeans__n_clusters=85, total=  13.6s\n",
            "[CV] kmeans__n_clusters=86 ...........................................\n",
            "[CV] ............................ kmeans__n_clusters=86, total=  12.6s\n",
            "[CV] kmeans__n_clusters=86 ...........................................\n",
            "[CV] ............................ kmeans__n_clusters=86, total=  10.3s\n",
            "[CV] kmeans__n_clusters=86 ...........................................\n",
            "[CV] ............................ kmeans__n_clusters=86, total=  15.1s\n",
            "[CV] kmeans__n_clusters=87 ...........................................\n",
            "[CV] ............................ kmeans__n_clusters=87, total=  11.2s\n",
            "[CV] kmeans__n_clusters=87 ...........................................\n",
            "[CV] ............................ kmeans__n_clusters=87, total=   9.3s\n",
            "[CV] kmeans__n_clusters=87 ...........................................\n",
            "[CV] ............................ kmeans__n_clusters=87, total=   8.8s\n",
            "[CV] kmeans__n_clusters=88 ...........................................\n",
            "[CV] ............................ kmeans__n_clusters=88, total=  13.3s\n",
            "[CV] kmeans__n_clusters=88 ...........................................\n",
            "[CV] ............................ kmeans__n_clusters=88, total=   9.5s\n",
            "[CV] kmeans__n_clusters=88 ...........................................\n",
            "[CV] ............................ kmeans__n_clusters=88, total=   9.5s\n",
            "[CV] kmeans__n_clusters=89 ...........................................\n",
            "[CV] ............................ kmeans__n_clusters=89, total=   8.1s\n",
            "[CV] kmeans__n_clusters=89 ...........................................\n",
            "[CV] ............................ kmeans__n_clusters=89, total=   7.2s\n",
            "[CV] kmeans__n_clusters=89 ...........................................\n",
            "[CV] ............................ kmeans__n_clusters=89, total=  11.7s\n",
            "[CV] kmeans__n_clusters=90 ...........................................\n",
            "[CV] ............................ kmeans__n_clusters=90, total=   8.4s\n",
            "[CV] kmeans__n_clusters=90 ...........................................\n",
            "[CV] ............................ kmeans__n_clusters=90, total=   6.8s\n",
            "[CV] kmeans__n_clusters=90 ...........................................\n"
          ],
          "name": "stdout"
        },
        {
          "output_type": "stream",
          "text": [
            "/usr/local/lib/python3.7/dist-packages/sklearn/linear_model/_logistic.py:940: ConvergenceWarning: lbfgs failed to converge (status=1):\n",
            "STOP: TOTAL NO. of ITERATIONS REACHED LIMIT.\n",
            "\n",
            "Increase the number of iterations (max_iter) or scale the data as shown in:\n",
            "    https://scikit-learn.org/stable/modules/preprocessing.html\n",
            "Please also refer to the documentation for alternative solver options:\n",
            "    https://scikit-learn.org/stable/modules/linear_model.html#logistic-regression\n",
            "  extra_warning_msg=_LOGISTIC_SOLVER_CONVERGENCE_MSG)\n"
          ],
          "name": "stderr"
        },
        {
          "output_type": "stream",
          "text": [
            "[CV] ............................ kmeans__n_clusters=90, total=  20.8s\n",
            "[CV] kmeans__n_clusters=91 ...........................................\n",
            "[CV] ............................ kmeans__n_clusters=91, total=  11.5s\n",
            "[CV] kmeans__n_clusters=91 ...........................................\n",
            "[CV] ............................ kmeans__n_clusters=91, total=   6.7s\n",
            "[CV] kmeans__n_clusters=91 ...........................................\n",
            "[CV] ............................ kmeans__n_clusters=91, total=   8.2s\n",
            "[CV] kmeans__n_clusters=92 ...........................................\n",
            "[CV] ............................ kmeans__n_clusters=92, total=  12.2s\n",
            "[CV] kmeans__n_clusters=92 ...........................................\n",
            "[CV] ............................ kmeans__n_clusters=92, total=  12.2s\n",
            "[CV] kmeans__n_clusters=92 ...........................................\n",
            "[CV] ............................ kmeans__n_clusters=92, total=  16.1s\n",
            "[CV] kmeans__n_clusters=93 ...........................................\n",
            "[CV] ............................ kmeans__n_clusters=93, total=  13.6s\n",
            "[CV] kmeans__n_clusters=93 ...........................................\n",
            "[CV] ............................ kmeans__n_clusters=93, total=  15.9s\n",
            "[CV] kmeans__n_clusters=93 ...........................................\n",
            "[CV] ............................ kmeans__n_clusters=93, total=  14.7s\n",
            "[CV] kmeans__n_clusters=94 ...........................................\n",
            "[CV] ............................ kmeans__n_clusters=94, total=  12.4s\n",
            "[CV] kmeans__n_clusters=94 ...........................................\n",
            "[CV] ............................ kmeans__n_clusters=94, total=   8.4s\n",
            "[CV] kmeans__n_clusters=94 ...........................................\n",
            "[CV] ............................ kmeans__n_clusters=94, total=  11.7s\n",
            "[CV] kmeans__n_clusters=95 ...........................................\n",
            "[CV] ............................ kmeans__n_clusters=95, total=   8.6s\n",
            "[CV] kmeans__n_clusters=95 ...........................................\n",
            "[CV] ............................ kmeans__n_clusters=95, total=   7.2s\n",
            "[CV] kmeans__n_clusters=95 ...........................................\n",
            "[CV] ............................ kmeans__n_clusters=95, total=  11.7s\n",
            "[CV] kmeans__n_clusters=96 ...........................................\n",
            "[CV] ............................ kmeans__n_clusters=96, total=  10.4s\n",
            "[CV] kmeans__n_clusters=96 ...........................................\n",
            "[CV] ............................ kmeans__n_clusters=96, total=   8.8s\n",
            "[CV] kmeans__n_clusters=96 ...........................................\n",
            "[CV] ............................ kmeans__n_clusters=96, total=   8.5s\n",
            "[CV] kmeans__n_clusters=97 ...........................................\n",
            "[CV] ............................ kmeans__n_clusters=97, total=   7.4s\n",
            "[CV] kmeans__n_clusters=97 ...........................................\n",
            "[CV] ............................ kmeans__n_clusters=97, total=   9.4s\n",
            "[CV] kmeans__n_clusters=97 ...........................................\n",
            "[CV] ............................ kmeans__n_clusters=97, total=  20.0s\n",
            "[CV] kmeans__n_clusters=98 ...........................................\n",
            "[CV] ............................ kmeans__n_clusters=98, total=  10.5s\n",
            "[CV] kmeans__n_clusters=98 ...........................................\n",
            "[CV] ............................ kmeans__n_clusters=98, total=   8.6s\n",
            "[CV] kmeans__n_clusters=98 ...........................................\n",
            "[CV] ............................ kmeans__n_clusters=98, total=   8.3s\n",
            "[CV] kmeans__n_clusters=99 ...........................................\n",
            "[CV] ............................ kmeans__n_clusters=99, total=   7.1s\n",
            "[CV] kmeans__n_clusters=99 ...........................................\n",
            "[CV] ............................ kmeans__n_clusters=99, total=  13.6s\n",
            "[CV] kmeans__n_clusters=99 ...........................................\n",
            "[CV] ............................ kmeans__n_clusters=99, total=   8.0s\n"
          ],
          "name": "stdout"
        },
        {
          "output_type": "stream",
          "text": [
            "[Parallel(n_jobs=1)]: Done 294 out of 294 | elapsed: 53.7min finished\n"
          ],
          "name": "stderr"
        },
        {
          "output_type": "execute_result",
          "data": {
            "text/plain": [
              "GridSearchCV(cv=3, error_score=nan,\n",
              "             estimator=Pipeline(memory=None,\n",
              "                                steps=[('kmeans',\n",
              "                                        KMeans(algorithm='auto', copy_x=True,\n",
              "                                               init='k-means++', max_iter=300,\n",
              "                                               n_clusters=50, n_init=10,\n",
              "                                               n_jobs=None,\n",
              "                                               precompute_distances='auto',\n",
              "                                               random_state=None, tol=0.0001,\n",
              "                                               verbose=0)),\n",
              "                                       ('log_reg',\n",
              "                                        LogisticRegression(C=1.0,\n",
              "                                                           class_weight=None,\n",
              "                                                           dual=False,\n",
              "                                                           fit_intercept=True,\n",
              "                                                           intercept_scaling=1,\n",
              "                                                           l1_ratio=None,\n",
              "                                                           max_iter=10000,\n",
              "                                                           multi_class='auto',\n",
              "                                                           n_jobs=None,\n",
              "                                                           penalty='l2',\n",
              "                                                           random_state=42,\n",
              "                                                           solver='lbfgs',\n",
              "                                                           tol=0.0001,\n",
              "                                                           verbose=0,\n",
              "                                                           warm_start=False))],\n",
              "                                verbose=False),\n",
              "             iid='deprecated', n_jobs=None,\n",
              "             param_grid={'kmeans__n_clusters': range(2, 100)},\n",
              "             pre_dispatch='2*n_jobs', refit=True, return_train_score=False,\n",
              "             scoring=None, verbose=2)"
            ]
          },
          "metadata": {
            "tags": []
          },
          "execution_count": 0
        }
      ]
    },
    {
      "cell_type": "markdown",
      "metadata": {
        "id": "E-ednAQMhxqq"
      },
      "source": [
        "# DBSCAN"
      ]
    },
    {
      "cell_type": "code",
      "metadata": {
        "id": "KnGe6jgxP6wn"
      },
      "source": [
        "from sklearn.cluster import DBSCAN"
      ],
      "execution_count": null,
      "outputs": []
    },
    {
      "cell_type": "code",
      "metadata": {
        "id": "X1wRMRM8P_ci"
      },
      "source": [
        "from sklearn.datasets import make_moons"
      ],
      "execution_count": null,
      "outputs": []
    },
    {
      "cell_type": "code",
      "metadata": {
        "colab": {
          "base_uri": "https://localhost:8080/"
        },
        "id": "Va6lLtu8QDfI",
        "outputId": "aa1f8bce-5e9e-4f59-bc26-13f92047f689"
      },
      "source": [
        "X, y = make_moons(n_samples=1000, noise=0.05)\n",
        "dbscan = DBSCAN(eps=0.05, min_samples=5)\n",
        "dbscan.fit(X)"
      ],
      "execution_count": null,
      "outputs": [
        {
          "output_type": "execute_result",
          "data": {
            "text/plain": [
              "DBSCAN(algorithm='auto', eps=0.05, leaf_size=30, metric='euclidean',\n",
              "       metric_params=None, min_samples=5, n_jobs=None, p=None)"
            ]
          },
          "metadata": {
            "tags": []
          },
          "execution_count": 29
        }
      ]
    },
    {
      "cell_type": "code",
      "metadata": {
        "colab": {
          "base_uri": "https://localhost:8080/"
        },
        "id": "DDXtzF_SR1Cn",
        "outputId": "43d5e8a4-c3b4-4ae2-f39d-e38da5a193a9"
      },
      "source": [
        "X"
      ],
      "execution_count": null,
      "outputs": [
        {
          "output_type": "execute_result",
          "data": {
            "text/plain": [
              "array([[ 0.10187078,  0.98917757],\n",
              "       [ 0.48461856, -0.35358787],\n",
              "       [-0.58172565,  0.9260136 ],\n",
              "       ...,\n",
              "       [-0.46336715,  0.87135611],\n",
              "       [ 0.92620443,  0.30339075],\n",
              "       [ 0.03066798,  0.03539274]])"
            ]
          },
          "metadata": {
            "tags": []
          },
          "execution_count": 30
        }
      ]
    },
    {
      "cell_type": "code",
      "metadata": {
        "colab": {
          "base_uri": "https://localhost:8080/"
        },
        "id": "Lu27Z1i_QFrm",
        "outputId": "d1c3d53b-e6e4-4fd1-8a79-8848772eb7ac"
      },
      "source": [
        "dbscan.labels_"
      ],
      "execution_count": null,
      "outputs": [
        {
          "output_type": "execute_result",
          "data": {
            "text/plain": [
              "array([ 0,  1, -1,  2,  0,  3,  4,  0,  3,  0,  0,  0,  0, -1,  4,  0,  0,\n",
              "       -1,  1,  0,  1,  0,  3,  0,  3,  0,  3,  0,  0, -1,  0,  0,  3, -1,\n",
              "        5,  3,  1,  0,  0,  0,  0,  3,  4,  3,  1,  0,  4,  3,  0,  4, -1,\n",
              "        0,  0,  0,  0,  0,  3,  3,  3,  3,  5,  3,  0, -1,  3, -1,  4,  5,\n",
              "        0,  3,  3,  3, -1,  3,  0,  3,  0,  0,  4,  3,  0,  2, -1,  3,  3,\n",
              "        3,  1,  3,  0,  0,  0,  2,  0,  0,  3,  3,  0,  3,  0,  0,  2,  0,\n",
              "        0,  3,  0,  3,  0,  0,  0,  4,  4,  3,  0,  3,  0,  0, -1,  0,  0,\n",
              "        4, -1,  0,  4,  0,  3,  0,  5,  0, -1,  5,  0,  3,  0,  3,  3,  3,\n",
              "        0,  4,  3, -1,  3,  3,  0,  0,  3,  3,  3,  0,  1,  2,  2,  0,  0,\n",
              "        0,  0,  0, -1,  4,  4, -1,  4,  0,  0,  0,  0,  2,  3,  0,  0,  3,\n",
              "        3,  0,  0,  3,  3,  0, -1,  5,  0,  3,  3,  0,  3,  0,  1,  0,  1,\n",
              "        3,  4,  3,  0,  0,  0,  4,  0,  0,  3,  0,  3,  0,  3,  1,  0,  0,\n",
              "        3,  3,  0,  3,  0,  1,  3,  3,  0,  0,  3,  4,  3,  0, -1,  0,  0,\n",
              "        0,  0,  3,  3, -1,  3,  0,  0,  0,  4,  0,  1,  0,  0,  0,  0,  4,\n",
              "        0,  3,  3,  3, -1,  3,  3,  0,  3,  0,  0,  0,  0,  0,  0,  0,  3,\n",
              "        0,  0,  3,  3,  0,  3,  0,  0,  3, -1,  0,  3,  3,  0,  0,  0,  0,\n",
              "        0,  0,  3,  0,  3,  3,  2,  5,  2,  4,  3,  0,  0,  3,  0,  0,  0,\n",
              "        4,  0,  0,  0,  3,  2,  3,  0,  4,  3,  3,  3,  3,  0,  0,  3,  3,\n",
              "        0,  3, -1,  0,  0,  3, -1,  3,  0,  0,  0,  1,  3,  3,  0,  3,  0,\n",
              "        3, -1,  0, -1,  0,  3,  3,  4,  0,  3, -1, -1,  0,  0,  4,  0,  0,\n",
              "        3, -1,  0,  0,  2,  0,  3,  0,  3,  3,  3,  3,  3, -1,  0,  3,  3,\n",
              "       -1,  3,  0,  3, -1,  3,  0,  0,  0,  3,  3,  4,  0,  3,  0,  0,  1,\n",
              "        0, -1,  0,  0,  0,  3,  0,  3,  3,  0,  3,  3,  0,  0,  3,  3,  3,\n",
              "        0,  0,  3,  4,  0,  0,  4,  0,  0,  0, -1,  0,  0,  3,  3,  3,  0,\n",
              "        0, -1,  0,  0,  0,  4,  0, -1, -1,  0,  5,  0,  6,  3,  0,  0,  3,\n",
              "       -1,  2,  0,  3,  3,  4,  3,  0,  0,  0,  3,  4,  4,  4,  3,  0, -1,\n",
              "        0,  0, -1,  1,  0,  4, -1,  0,  0,  0,  3,  3,  3,  3,  3,  0,  4,\n",
              "        0,  3, -1,  0,  3,  6,  0,  3,  3,  3,  3,  0,  3,  4,  0,  3,  3,\n",
              "        5,  0,  1,  3,  0,  0, -1,  0,  3,  3,  3,  0,  0,  4,  3,  3,  0,\n",
              "        4,  0,  1,  1,  3,  3,  0,  3,  3,  3,  3,  0,  0, -1, -1,  3,  0,\n",
              "        4,  0,  0,  0,  3,  0, -1,  5,  4,  0,  0,  3,  0,  0, -1,  4,  3,\n",
              "        0,  0,  0, -1,  0,  0,  0,  0,  5,  4, -1,  0,  3, -1,  3,  3,  0,\n",
              "        4,  0,  0,  3,  3,  0,  3,  0,  0,  3,  3,  3,  3,  0,  0,  4,  3,\n",
              "        3,  3,  3,  3,  0,  3,  0,  1,  0,  3,  0,  0,  0,  0,  4,  0,  3,\n",
              "        1,  3,  0,  0,  3, -1,  4,  3,  0,  0,  0, -1, -1,  4,  3,  0,  0,\n",
              "        0,  4,  1,  4,  0,  3,  0,  3,  3,  3,  3,  3, -1,  4,  0,  0,  0,\n",
              "        3,  0,  0,  0,  0, -1,  3,  0,  0, -1,  0,  0,  3,  3,  5,  1,  3,\n",
              "        3,  4,  3,  4,  3,  0, -1,  3,  1,  2,  2,  3,  0,  3,  3,  3,  0,\n",
              "        0,  0,  0,  0,  3,  0,  0,  0,  3,  0,  0,  0,  0,  0,  3,  3,  0,\n",
              "        0,  3,  3,  0,  0,  3,  0,  1,  0,  3,  2,  0,  3,  5,  5,  3,  0,\n",
              "        4,  0,  3,  0,  0,  2,  3,  0,  4,  3,  0,  4,  3,  0,  5,  0,  0,\n",
              "       -1,  3,  4,  3,  3,  0,  0,  0,  2,  0, -1,  3,  0,  0,  0,  0,  5,\n",
              "        5,  0,  3,  3,  4,  3,  0,  3,  0,  5,  3,  0,  3,  0,  2,  0,  0,\n",
              "        0,  1,  0,  3,  0,  0,  3,  0,  0,  0,  5,  0, -1,  0,  0,  5, -1,\n",
              "        0,  0, -1,  6,  3, -1,  0, -1,  4,  0,  0,  4,  0,  0,  0,  0,  0,\n",
              "        5,  0,  1,  0,  1,  0,  0,  3,  3,  4,  0,  0,  1,  3,  3,  0, -1,\n",
              "        0,  1,  0,  0,  3,  0,  3,  3,  1,  4,  0,  3,  3,  0,  3, -1, -1,\n",
              "        1,  3,  0,  0, -1,  0, -1,  0,  0,  3,  0,  4,  2,  0,  3,  3,  1,\n",
              "        0,  0,  0,  3, -1,  3,  0,  4,  4,  3,  0,  0,  1,  0,  0, -1,  0,\n",
              "        4,  4,  3,  3,  4,  3,  4,  0,  0,  0,  0,  4,  3,  0,  0,  0,  3,\n",
              "        0,  5,  2,  3,  3,  0,  3,  3,  0,  3,  4,  2,  4, -1,  1,  3,  0,\n",
              "        0,  3,  0, -1,  1,  3,  0,  0,  0,  2,  0,  0,  1,  1,  3,  0,  0,\n",
              "        3,  3, -1,  0,  0,  4,  0,  0,  0,  3,  0,  0,  4,  3, -1,  4,  0,\n",
              "        4,  0,  0,  3,  2,  3,  3,  0, -1,  3,  5,  0,  3,  3, -1,  4,  2,\n",
              "        4, -1,  0,  0,  3,  3,  0, -1,  5,  3, -1,  0,  3,  4,  3,  0,  3,\n",
              "        0,  0,  3,  0,  0, -1, -1,  3,  4,  3,  1,  0,  5,  3,  4,  0,  0,\n",
              "        0, -1,  3,  0,  3,  3,  0,  0,  1,  3,  6,  4,  0,  1, -1, -1,  0,\n",
              "        1,  3,  0,  3, -1,  0,  3,  3,  3,  3,  3,  0,  3,  0,  0,  0,  1,\n",
              "        0,  0,  3,  0,  3,  3,  0,  3,  0,  0,  3,  0,  0,  0])"
            ]
          },
          "metadata": {
            "tags": []
          },
          "execution_count": 22
        }
      ]
    },
    {
      "cell_type": "code",
      "metadata": {
        "colab": {
          "base_uri": "https://localhost:8080/"
        },
        "id": "GpHfYOK6QIH2",
        "outputId": "519c2bde-b017-4c5f-ca0b-837b12345eb9"
      },
      "source": [
        "len(dbscan.core_sample_indices_)"
      ],
      "execution_count": null,
      "outputs": [
        {
          "output_type": "execute_result",
          "data": {
            "text/plain": [
              "806"
            ]
          },
          "metadata": {
            "tags": []
          },
          "execution_count": 23
        }
      ]
    },
    {
      "cell_type": "code",
      "metadata": {
        "colab": {
          "base_uri": "https://localhost:8080/"
        },
        "id": "s8Az1UG8QSYl",
        "outputId": "bdac0555-699c-44d8-9175-e91a28b6b458"
      },
      "source": [
        "dbscan.core_sample_indices_"
      ],
      "execution_count": null,
      "outputs": [
        {
          "output_type": "execute_result",
          "data": {
            "text/plain": [
              "array([  0,   1,   3,   4,   5,   6,   7,   8,   9,  11,  12,  14,  16,\n",
              "        18,  19,  20,  21,  22,  23,  24,  25,  26,  27,  28,  30,  31,\n",
              "        32,  34,  35,  36,  38,  39,  40,  41,  43,  44,  45,  46,  47,\n",
              "        51,  52,  53,  54,  55,  56,  57,  58,  59,  60,  61,  62,  64,\n",
              "        66,  69,  70,  71,  73,  74,  75,  76,  77,  78,  79,  81,  83,\n",
              "        84,  85,  86,  87,  88,  89,  90,  91,  92,  93,  94,  98,  99,\n",
              "       100, 101, 102, 103, 104, 105, 106, 107, 108, 109, 110, 111, 112,\n",
              "       113, 114, 115, 117, 118, 119, 121, 122, 123, 124, 127, 129, 130,\n",
              "       131, 132, 133, 134, 136, 137, 138, 140, 141, 142, 143, 144, 145,\n",
              "       146, 147, 148, 149, 150, 151, 152, 153, 154, 155, 157, 160, 161,\n",
              "       162, 163, 164, 165, 166, 167, 168, 169, 170, 171, 173, 174, 175,\n",
              "       177, 178, 179, 180, 181, 182, 183, 185, 186, 187, 190, 191, 192,\n",
              "       193, 194, 196, 198, 199, 200, 202, 204, 205, 207, 208, 209, 210,\n",
              "       211, 212, 213, 215, 216, 217, 219, 220, 221, 222, 223, 224, 226,\n",
              "       227, 228, 229, 231, 232, 233, 234, 235, 236, 237, 238, 239, 241,\n",
              "       243, 244, 245, 246, 247, 248, 250, 253, 255, 256, 257, 258, 259,\n",
              "       260, 261, 262, 263, 265, 266, 267, 268, 269, 270, 271, 272, 273,\n",
              "       274, 275, 276, 277, 279, 280, 281, 282, 283, 284, 285, 286, 287,\n",
              "       288, 289, 290, 291, 292, 293, 294, 295, 297, 298, 299, 300, 301,\n",
              "       302, 303, 304, 305, 306, 307, 309, 310, 311, 313, 314, 315, 318,\n",
              "       319, 320, 322, 323, 325, 327, 328, 329, 330, 332, 335, 336, 338,\n",
              "       339, 340, 342, 343, 344, 345, 346, 347, 348, 349, 350, 351, 352,\n",
              "       354, 356, 358, 360, 362, 363, 364, 366, 367, 368, 369, 371, 372,\n",
              "       373, 374, 376, 377, 378, 379, 380, 382, 383, 384, 385, 386, 387,\n",
              "       388, 389, 390, 391, 392, 393, 394, 395, 396, 397, 398, 399, 400,\n",
              "       402, 403, 404, 405, 406, 407, 410, 411, 412, 413, 414, 417, 418,\n",
              "       419, 421, 423, 424, 426, 427, 428, 429, 430, 431, 432, 433, 434,\n",
              "       435, 436, 437, 438, 439, 440, 442, 443, 445, 446, 447, 449, 450,\n",
              "       451, 452, 453, 454, 456, 457, 458, 459, 460, 462, 463, 465, 466,\n",
              "       467, 468, 469, 470, 471, 472, 473, 474, 475, 476, 477, 478, 479,\n",
              "       480, 484, 485, 486, 487, 488, 489, 491, 492, 493, 495, 496, 497,\n",
              "       498, 499, 500, 501, 502, 503, 504, 505, 508, 509, 510, 511, 512,\n",
              "       513, 514, 518, 519, 520, 521, 522, 523, 525, 527, 528, 529, 531,\n",
              "       532, 533, 534, 535, 536, 538, 539, 541, 542, 543, 544, 545, 548,\n",
              "       549, 551, 552, 553, 555, 556, 557, 558, 559, 560, 561, 562, 563,\n",
              "       564, 565, 566, 567, 568, 569, 570, 571, 572, 573, 574, 575, 576,\n",
              "       578, 579, 580, 581, 584, 585, 586, 587, 588, 591, 592, 594, 595,\n",
              "       596, 597, 598, 599, 600, 601, 602, 603, 605, 606, 610, 611, 612,\n",
              "       613, 614, 615, 616, 618, 619, 620, 622, 623, 624, 625, 627, 628,\n",
              "       629, 630, 631, 632, 633, 634, 636, 637, 638, 639, 640, 641, 642,\n",
              "       643, 644, 645, 646, 647, 648, 649, 650, 651, 652, 653, 654, 655,\n",
              "       656, 657, 658, 659, 661, 662, 663, 665, 666, 668, 669, 670, 671,\n",
              "       672, 673, 674, 675, 677, 678, 679, 680, 682, 683, 684, 686, 687,\n",
              "       688, 689, 690, 692, 693, 694, 695, 696, 698, 700, 701, 702, 703,\n",
              "       704, 705, 706, 709, 710, 711, 712, 713, 714, 715, 716, 717, 718,\n",
              "       719, 720, 721, 722, 723, 724, 725, 726, 727, 729, 730, 731, 732,\n",
              "       733, 734, 735, 736, 737, 739, 740, 742, 744, 745, 748, 749, 754,\n",
              "       756, 758, 759, 760, 761, 762, 763, 764, 765, 766, 767, 768, 769,\n",
              "       770, 771, 772, 773, 774, 775, 776, 777, 778, 779, 782, 783, 784,\n",
              "       785, 786, 787, 788, 789, 790, 791, 792, 793, 794, 795, 796, 799,\n",
              "       800, 801, 802, 804, 806, 807, 808, 810, 812, 813, 814, 815, 817,\n",
              "       818, 821, 822, 823, 824, 825, 826, 827, 828, 829, 830, 832, 833,\n",
              "       834, 836, 837, 838, 839, 840, 842, 844, 845, 846, 847, 848, 850,\n",
              "       851, 853, 856, 857, 858, 859, 860, 861, 862, 864, 865, 866, 867,\n",
              "       868, 869, 871, 873, 874, 875, 877, 878, 879, 880, 881, 882, 883,\n",
              "       884, 887, 888, 889, 890, 891, 892, 893, 895, 896, 899, 900, 903,\n",
              "       904, 906, 907, 908, 910, 911, 912, 913, 914, 917, 918, 920, 921,\n",
              "       922, 923, 924, 927, 929, 930, 931, 932, 934, 935, 937, 938, 939,\n",
              "       942, 943, 944, 945, 946, 947, 948, 950, 951, 952, 954, 955, 956,\n",
              "       957, 958, 959, 960, 961, 962, 963, 964, 965, 968, 969, 970, 971,\n",
              "       972, 974, 975, 976, 977, 978, 979, 980, 981, 982, 983, 984, 986,\n",
              "       987, 988, 989, 990, 991, 992, 993, 994, 995, 996, 997, 998, 999])"
            ]
          },
          "metadata": {
            "tags": []
          },
          "execution_count": 25
        }
      ]
    },
    {
      "cell_type": "code",
      "metadata": {
        "colab": {
          "base_uri": "https://localhost:8080/"
        },
        "id": "s_Ngg7nSQSpJ",
        "outputId": "02ce7dd0-91ea-4499-9b2e-8407210ded6b"
      },
      "source": [
        "from sklearn.neighbors import KNeighborsClassifier\n",
        "knn = KNeighborsClassifier(n_neighbors=50)\n",
        "knn.fit(dbscan.components_, dbscan.labels_[dbscan.core_sample_indices_])"
      ],
      "execution_count": null,
      "outputs": [
        {
          "output_type": "execute_result",
          "data": {
            "text/plain": [
              "KNeighborsClassifier(algorithm='auto', leaf_size=30, metric='minkowski',\n",
              "                     metric_params=None, n_jobs=None, n_neighbors=50, p=2,\n",
              "                     weights='uniform')"
            ]
          },
          "metadata": {
            "tags": []
          },
          "execution_count": 26
        }
      ]
    },
    {
      "cell_type": "code",
      "metadata": {
        "id": "Ac1pwkzBRL16"
      },
      "source": [
        "X_new = np.array([[-0.5, 0], [0, 0.5], [1, -0.1], [2, 1]])"
      ],
      "execution_count": null,
      "outputs": []
    },
    {
      "cell_type": "code",
      "metadata": {
        "colab": {
          "base_uri": "https://localhost:8080/"
        },
        "id": "CIo3LfsTRYiq",
        "outputId": "cf90cbbb-313a-4728-b4d7-f05dd149eddb"
      },
      "source": [
        "knn.predict(X_new)"
      ],
      "execution_count": null,
      "outputs": [
        {
          "output_type": "execute_result",
          "data": {
            "text/plain": [
              "array([1, 0, 0, 0])"
            ]
          },
          "metadata": {
            "tags": []
          },
          "execution_count": 28
        }
      ]
    },
    {
      "cell_type": "code",
      "metadata": {
        "id": "udfI0h2wRdOQ"
      },
      "source": [
        ""
      ],
      "execution_count": null,
      "outputs": []
    }
  ]
}