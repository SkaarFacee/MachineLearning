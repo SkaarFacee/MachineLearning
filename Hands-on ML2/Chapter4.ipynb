{
  "nbformat": 4,
  "nbformat_minor": 0,
  "metadata": {
    "colab": {
      "name": "Chapter4.ipynb",
      "provenance": [],
      "collapsed_sections": [
        "OY-R-B4Savvo",
        "rY6xnOy1eClH",
        "C0H6vHvZp-41",
        "UJKBY1mtsFY5",
        "XZWvU63X1ef4",
        "qH0CxETV9r9K",
        "JXXGRpxqIYt-",
        "rMt2QhKuPS8X",
        "O7jcL9X-RQru"
      ],
      "authorship_tag": "ABX9TyMSnsLDGFOhKyEPo7gw5ZpM"
    },
    "kernelspec": {
      "name": "python3",
      "display_name": "Python 3"
    },
    "language_info": {
      "name": "python"
    }
  },
  "cells": [
    {
      "cell_type": "code",
      "metadata": {
        "id": "e67Q-O61ACaR"
      },
      "source": [
        "import numpy as np \n",
        "import matplotlib.pyplot as plt\n"
      ],
      "execution_count": null,
      "outputs": []
    },
    {
      "cell_type": "code",
      "metadata": {
        "id": "pIc4uLSgA3Ol"
      },
      "source": [
        "x=2*np.random.rand(100,1)\n",
        "y=3+3*np.random.rand(100,1)"
      ],
      "execution_count": null,
      "outputs": []
    },
    {
      "cell_type": "code",
      "metadata": {
        "id": "aJyGzZpFBI90"
      },
      "source": [
        "X_b = np.c_[np.ones((100, 1)), x]"
      ],
      "execution_count": null,
      "outputs": []
    },
    {
      "cell_type": "code",
      "metadata": {
        "id": "EJ2C5nhJB8Yz"
      },
      "source": [
        "x_b=np.stack((np.ones((100,1)).flatten().reshape(x.shape),x),axis=1).flatten().reshape(100,2)"
      ],
      "execution_count": null,
      "outputs": []
    },
    {
      "cell_type": "code",
      "metadata": {
        "id": "_2nanpz_BJf4"
      },
      "source": [
        "theta_best = np.linalg.inv(x_b.T.dot(x_b)).dot(x_b.T).dot(y)"
      ],
      "execution_count": null,
      "outputs": []
    },
    {
      "cell_type": "code",
      "metadata": {
        "colab": {
          "base_uri": "https://localhost:8080/"
        },
        "id": "VCif7n5-BstQ",
        "outputId": "de3fcb05-84f0-4a77-8ab6-f5298406b7d1"
      },
      "source": [
        "theta_best"
      ],
      "execution_count": null,
      "outputs": [
        {
          "output_type": "execute_result",
          "data": {
            "text/plain": [
              "array([[4.20778605],\n",
              "       [0.12814264]])"
            ]
          },
          "metadata": {
            "tags": []
          },
          "execution_count": 69
        }
      ]
    },
    {
      "cell_type": "code",
      "metadata": {
        "colab": {
          "base_uri": "https://localhost:8080/",
          "height": 282
        },
        "id": "ZXtWR5bHDluy",
        "outputId": "4a7dbdae-ad66-4ad8-bbb0-b0476125d816"
      },
      "source": [
        "fig, ax = plt.subplots()\n",
        "ax.scatter(x,y)"
      ],
      "execution_count": null,
      "outputs": [
        {
          "output_type": "execute_result",
          "data": {
            "text/plain": [
              "<matplotlib.collections.PathCollection at 0x7f14d6fc9cd0>"
            ]
          },
          "metadata": {
            "tags": []
          },
          "execution_count": 70
        },
        {
          "output_type": "display_data",
          "data": {
            "image/png": "[encoded data removed]",
            "text/plain": [
              "<Figure size 432x288 with 1 Axes>"
            ]
          },
          "metadata": {
            "tags": [],
            "needs_background": "light"
          }
        }
      ]
    },
    {
      "cell_type": "code",
      "metadata": {
        "id": "Mn2uMGxNEShD"
      },
      "source": [
        "x_new=np.array([[0],[2]])\n",
        "x_new_b=np.stack((np.ones((2,1)),x_new),axis=1).flatten().reshape(2,2)"
      ],
      "execution_count": null,
      "outputs": []
    },
    {
      "cell_type": "code",
      "metadata": {
        "id": "D2PcbEzyG5b2"
      },
      "source": [
        "y_pred=x_new_b.dot(theta_best)"
      ],
      "execution_count": null,
      "outputs": []
    },
    {
      "cell_type": "code",
      "metadata": {
        "colab": {
          "base_uri": "https://localhost:8080/"
        },
        "id": "xVFUAGFpHQFM",
        "outputId": "b9bb96a2-ec2d-4326-c1f9-6525d3917a62"
      },
      "source": [
        "y_pred"
      ],
      "execution_count": null,
      "outputs": [
        {
          "output_type": "execute_result",
          "data": {
            "text/plain": [
              "array([[4.20778605],\n",
              "       [4.46407134]])"
            ]
          },
          "metadata": {
            "tags": []
          },
          "execution_count": 73
        }
      ]
    },
    {
      "cell_type": "code",
      "metadata": {
        "colab": {
          "base_uri": "https://localhost:8080/",
          "height": 282
        },
        "id": "HeTtKVLQHm2x",
        "outputId": "62a8c7ed-77c5-455c-8135-31d0312f4d24"
      },
      "source": [
        "plt.plot(x_new, y_pred, \"r-\")\n",
        "plt.plot(x, y, \"b.\")"
      ],
      "execution_count": null,
      "outputs": [
        {
          "output_type": "execute_result",
          "data": {
            "text/plain": [
              "[<matplotlib.lines.Line2D at 0x7f14d25fe950>]"
            ]
          },
          "metadata": {
            "tags": []
          },
          "execution_count": 74
        },
        {
          "output_type": "display_data",
          "data": {
            "image/png": "[encoded data removed]",
            "text/plain": [
              "<Figure size 432x288 with 1 Axes>"
            ]
          },
          "metadata": {
            "tags": [],
            "needs_background": "light"
          }
        }
      ]
    },
    {
      "cell_type": "markdown",
      "metadata": {
        "id": "7svgn8ScHuA3"
      },
      "source": [
        "# Performing Linera Regression on the same set"
      ]
    },
    {
      "cell_type": "code",
      "metadata": {
        "id": "Squsa3_BH4nd"
      },
      "source": [
        "from sklearn.linear_model import LinearRegression"
      ],
      "execution_count": null,
      "outputs": []
    },
    {
      "cell_type": "code",
      "metadata": {
        "colab": {
          "base_uri": "https://localhost:8080/"
        },
        "id": "EOg0DpjxJQEy",
        "outputId": "9338850b-4827-49ce-e5aa-dfdd3d6f8709"
      },
      "source": [
        "lin_clf=LinearRegression()\n",
        "lin_clf.fit(x,y)"
      ],
      "execution_count": null,
      "outputs": [
        {
          "output_type": "execute_result",
          "data": {
            "text/plain": [
              "LinearRegression(copy_X=True, fit_intercept=True, n_jobs=None, normalize=False)"
            ]
          },
          "metadata": {
            "tags": []
          },
          "execution_count": 76
        }
      ]
    },
    {
      "cell_type": "code",
      "metadata": {
        "colab": {
          "base_uri": "https://localhost:8080/"
        },
        "id": "GMXdgV2oJaYq",
        "outputId": "82c87876-e42c-4434-aba5-d48a2fa5722e"
      },
      "source": [
        "lin_clf.predict(x_new)"
      ],
      "execution_count": null,
      "outputs": [
        {
          "output_type": "execute_result",
          "data": {
            "text/plain": [
              "array([[4.20778605],\n",
              "       [4.46407134]])"
            ]
          },
          "metadata": {
            "tags": []
          },
          "execution_count": 77
        }
      ]
    },
    {
      "cell_type": "code",
      "metadata": {
        "id": "qZiXIx3dJfOT"
      },
      "source": [
        "theta_best_svd, residuals, rank, s = np.linalg.lstsq(x_b, y, rcond=1e-6)"
      ],
      "execution_count": null,
      "outputs": []
    },
    {
      "cell_type": "code",
      "metadata": {
        "colab": {
          "base_uri": "https://localhost:8080/"
        },
        "id": "mgqfMFhGKVTW",
        "outputId": "db7dc0cc-009e-44ca-f3d3-740c229503e2"
      },
      "source": [
        "theta_best_svd"
      ],
      "execution_count": null,
      "outputs": [
        {
          "output_type": "execute_result",
          "data": {
            "text/plain": [
              "array([[4.20778605],\n",
              "       [0.12814264]])"
            ]
          },
          "metadata": {
            "tags": []
          },
          "execution_count": 79
        }
      ]
    },
    {
      "cell_type": "code",
      "metadata": {
        "colab": {
          "base_uri": "https://localhost:8080/"
        },
        "id": "WqpV2pZsKZ73",
        "outputId": "3fb71a77-8d44-4306-d73c-df75e0ff3d35"
      },
      "source": [
        "np.linalg.pinv(X_b).dot(y)"
      ],
      "execution_count": null,
      "outputs": [
        {
          "output_type": "execute_result",
          "data": {
            "text/plain": [
              "array([[4.20778605],\n",
              "       [0.12814264]])"
            ]
          },
          "metadata": {
            "tags": []
          },
          "execution_count": 80
        }
      ]
    },
    {
      "cell_type": "markdown",
      "metadata": {
        "id": "OY-R-B4Savvo"
      },
      "source": [
        "# Gradient Descent "
      ]
    },
    {
      "cell_type": "code",
      "metadata": {
        "id": "FkEYPvv8KeKJ"
      },
      "source": [
        "eta=0.1\n",
        "n_iterations=1000\n",
        "m=100"
      ],
      "execution_count": null,
      "outputs": []
    },
    {
      "cell_type": "code",
      "metadata": {
        "id": "F-309J1hdXsi"
      },
      "source": [
        "theta=np.random.randn(2,1)"
      ],
      "execution_count": null,
      "outputs": []
    },
    {
      "cell_type": "code",
      "metadata": {
        "id": "yv8WVXb0de32"
      },
      "source": [
        "for iteration in range(n_iterations):\n",
        "  gradients=2/m*x_b.T.dot(x_b.dot(theta)-y)\n",
        "  theta=theta-eta*gradients"
      ],
      "execution_count": null,
      "outputs": []
    },
    {
      "cell_type": "code",
      "metadata": {
        "colab": {
          "base_uri": "https://localhost:8080/"
        },
        "id": "ld12QvU3dfIb",
        "outputId": "c7db14e5-f3d9-4192-d4c4-4b1e75c8f9e3"
      },
      "source": [
        "theta"
      ],
      "execution_count": null,
      "outputs": [
        {
          "output_type": "execute_result",
          "data": {
            "text/plain": [
              "array([[4.20778605],\n",
              "       [0.12814264]])"
            ]
          },
          "metadata": {
            "tags": []
          },
          "execution_count": 84
        }
      ]
    },
    {
      "cell_type": "markdown",
      "metadata": {
        "id": "rY6xnOy1eClH"
      },
      "source": [
        "# Stochastic Gradient Descent Basic"
      ]
    },
    {
      "cell_type": "code",
      "metadata": {
        "id": "D4UBZK5ypMRj"
      },
      "source": [
        "n_epochs = 50\n",
        "t0, t1 = 5, 50 # learning schedule hyperparameters\n",
        "def learning_schedule(t):\n",
        "  return t0 / (t + t1)\n",
        "theta = np.random.randn(2,1) # random initialization\n",
        "for epoch in range(n_epochs):\n",
        "  for i in range(m):\n",
        "    random_index = np.random.randint(m)\n",
        "    xi,yi = x_b[random_index:random_index+1],y[random_index:random_index+1]\n",
        "    gradients=2 * xi.T.dot(xi.dot(theta) - yi)\n",
        "    eta = learning_schedule(epoch * m + i)\n",
        "    theta = theta - eta * gradients"
      ],
      "execution_count": null,
      "outputs": []
    },
    {
      "cell_type": "code",
      "metadata": {
        "colab": {
          "base_uri": "https://localhost:8080/"
        },
        "id": "aZB50BIgsJCI",
        "outputId": "811b694d-1ea0-455e-87bd-92be754244c7"
      },
      "source": [
        "theta"
      ],
      "execution_count": null,
      "outputs": [
        {
          "output_type": "execute_result",
          "data": {
            "text/plain": [
              "array([[4.25438692],\n",
              "       [0.15757953]])"
            ]
          },
          "metadata": {
            "tags": []
          },
          "execution_count": 86
        }
      ]
    },
    {
      "cell_type": "markdown",
      "metadata": {
        "id": "C0H6vHvZp-41"
      },
      "source": [
        "# Stochastic Gradient Descent Using sklearn"
      ]
    },
    {
      "cell_type": "code",
      "metadata": {
        "colab": {
          "base_uri": "https://localhost:8080/"
        },
        "id": "WUAY5Q6Lr4N6",
        "outputId": "ab43ed6d-fd03-4d35-8cd2-2a5c9485db90"
      },
      "source": [
        "from sklearn.linear_model import SGDRegressor\n",
        "sgd_reg = SGDRegressor(max_iter=1000, tol=1e-3, penalty=None, eta0=0.1)\n",
        "sgd_reg.fit(x, y.ravel())"
      ],
      "execution_count": null,
      "outputs": [
        {
          "output_type": "execute_result",
          "data": {
            "text/plain": [
              "SGDRegressor(alpha=0.0001, average=False, early_stopping=False, epsilon=0.1,\n",
              "             eta0=0.1, fit_intercept=True, l1_ratio=0.15,\n",
              "             learning_rate='invscaling', loss='squared_loss', max_iter=1000,\n",
              "             n_iter_no_change=5, penalty=None, power_t=0.25, random_state=None,\n",
              "             shuffle=True, tol=0.001, validation_fraction=0.1, verbose=0,\n",
              "             warm_start=False)"
            ]
          },
          "metadata": {
            "tags": []
          },
          "execution_count": 87
        }
      ]
    },
    {
      "cell_type": "code",
      "metadata": {
        "colab": {
          "base_uri": "https://localhost:8080/"
        },
        "id": "1t6yXsF1r7KW",
        "outputId": "5d45f9a4-b71a-456e-dc76-013b69b60d08"
      },
      "source": [
        "sgd_reg.intercept_,sgd_reg.coef_"
      ],
      "execution_count": null,
      "outputs": [
        {
          "output_type": "execute_result",
          "data": {
            "text/plain": [
              "(array([4.18663573]), array([0.15292448]))"
            ]
          },
          "metadata": {
            "tags": []
          },
          "execution_count": 88
        }
      ]
    },
    {
      "cell_type": "markdown",
      "metadata": {
        "id": "UJKBY1mtsFY5"
      },
      "source": [
        "# Polynomial regresssion"
      ]
    },
    {
      "cell_type": "code",
      "metadata": {
        "id": "tFiDrLTZsQCH"
      },
      "source": [
        "m,x,y=100,6*np.random.randn(m,1)-3,0.5*+x**2+x+2+np.random.randn(m,1)"
      ],
      "execution_count": null,
      "outputs": []
    },
    {
      "cell_type": "code",
      "metadata": {
        "id": "BjieMo0b0cOV"
      },
      "source": [
        "from sklearn.preprocessing import PolynomialFeatures\n",
        "poly_features=PolynomialFeatures(degree=2,include_bias=False)\n",
        "x_poly=poly_features.fit_transform(x)"
      ],
      "execution_count": null,
      "outputs": []
    },
    {
      "cell_type": "code",
      "metadata": {
        "colab": {
          "base_uri": "https://localhost:8080/"
        },
        "id": "in-FVnqM03yg",
        "outputId": "8eb19f57-c3a5-4b0c-c95a-a9615f79dfcd"
      },
      "source": [
        "x[0]"
      ],
      "execution_count": null,
      "outputs": [
        {
          "output_type": "execute_result",
          "data": {
            "text/plain": [
              "array([5.14149632])"
            ]
          },
          "metadata": {
            "tags": []
          },
          "execution_count": 91
        }
      ]
    },
    {
      "cell_type": "code",
      "metadata": {
        "colab": {
          "base_uri": "https://localhost:8080/"
        },
        "id": "BqMKHzp-04bv",
        "outputId": "aaf90652-f7e4-4278-b99c-76d504e8dcab"
      },
      "source": [
        "x_poly[0]"
      ],
      "execution_count": null,
      "outputs": [
        {
          "output_type": "execute_result",
          "data": {
            "text/plain": [
              "array([ 5.14149632, 26.43498445])"
            ]
          },
          "metadata": {
            "tags": []
          },
          "execution_count": 92
        }
      ]
    },
    {
      "cell_type": "code",
      "metadata": {
        "colab": {
          "base_uri": "https://localhost:8080/"
        },
        "id": "XJIPNM2h07tL",
        "outputId": "0ecdcdb2-6cd5-4f28-9a68-eff0590b93c9"
      },
      "source": [
        "lin_reg=LinearRegression()\n",
        "lin_reg.fit(x_poly,y)"
      ],
      "execution_count": null,
      "outputs": [
        {
          "output_type": "execute_result",
          "data": {
            "text/plain": [
              "LinearRegression(copy_X=True, fit_intercept=True, n_jobs=None, normalize=False)"
            ]
          },
          "metadata": {
            "tags": []
          },
          "execution_count": 93
        }
      ]
    },
    {
      "cell_type": "code",
      "metadata": {
        "colab": {
          "base_uri": "https://localhost:8080/"
        },
        "id": "LW18HkJg1MIe",
        "outputId": "15fcad73-1037-4bd4-eebe-b205d7ea73c3"
      },
      "source": [
        "lin_reg.coef_,lin_reg.intercept_"
      ],
      "execution_count": null,
      "outputs": [
        {
          "output_type": "execute_result",
          "data": {
            "text/plain": [
              "(array([[-0.02781903, -0.00111284]]), array([3.63629409]))"
            ]
          },
          "metadata": {
            "tags": []
          },
          "execution_count": 94
        }
      ]
    },
    {
      "cell_type": "markdown",
      "metadata": {
        "id": "XZWvU63X1ef4"
      },
      "source": [
        "# Learning Curve"
      ]
    },
    {
      "cell_type": "code",
      "metadata": {
        "id": "ZeK5qSLS1_v-"
      },
      "source": [
        "from sklearn.metrics import mean_squared_error\n",
        "from sklearn.model_selection import train_test_split\n",
        "def plot_learning_curve(model,x,y):\n",
        "  x_train,x_val,y_train,y_val=train_test_split(x,y,test_size=0.2)\n",
        "  train_errors,val_errors=[],[]\n",
        "  for m in range(1,len(x_train)):\n",
        "    model.fit(x_train[:m],y_train[:m])\n",
        "    y_train_pred=model.predict(x_train[:m])\n",
        "    y_val_pred=model.predict(x_val)\n",
        "    train_errors.append(mean_squared_error(y_train[:m], y_train_pred))\n",
        "    val_errors.append(mean_squared_error(y_val, y_val_pred))\n",
        "  plt.plot(np.sqrt(train_errors), \"r-+\", linewidth=2, label=\"train\")\n",
        "  plt.plot(np.sqrt(val_errors), \"b-\", linewidth=3, label=\"val\")"
      ],
      "execution_count": null,
      "outputs": []
    },
    {
      "cell_type": "code",
      "metadata": {
        "colab": {
          "base_uri": "https://localhost:8080/"
        },
        "id": "bj84QKj25DAW",
        "outputId": "acd6dcbf-4478-4a72-c22c-ce0e142bdc60"
      },
      "source": [
        "lin_reg = LinearRegression()\n",
        "plot_learning_curve(lin_reg, x, y)"
      ],
      "execution_count": null,
      "outputs": [
        {
          "output_type": "display_data",
          "data": {
            "image/png": "[encoded data removed]",
            "text/plain": [
              "<Figure size 432x288 with 1 Axes>"
            ]
          },
          "metadata": {
            "tags": [],
            "needs_background": "light"
          }
        }
      ]
    },
    {
      "cell_type": "code",
      "metadata": {
        "colab": {
          "base_uri": "https://localhost:8080/"
        },
        "id": "22lK0QiM5FOB",
        "outputId": "3ae666d4-82a7-4090-d834-b5bda4cd96b8"
      },
      "source": [
        "from sklearn.pipeline import Pipeline\n",
        "polynomial_regression = Pipeline([\n",
        "(\"poly_features\", PolynomialFeatures(degree=10, include_bias=False)),\n",
        "(\"lin_reg\", LinearRegression()),])\n",
        "plot_learning_curve(polynomial_regression, x, y)"
      ],
      "execution_count": null,
      "outputs": [
        {
          "output_type": "display_data",
          "data": {
            "image/png": "[encoded data removed]",
            "text/plain": [
              "<Figure size 432x288 with 1 Axes>"
            ]
          },
          "metadata": {
            "tags": [],
            "needs_background": "light"
          }
        }
      ]
    },
    {
      "cell_type": "markdown",
      "metadata": {
        "id": "qH0CxETV9r9K"
      },
      "source": [
        "# Ridge Regression"
      ]
    },
    {
      "cell_type": "code",
      "metadata": {
        "colab": {
          "base_uri": "https://localhost:8080/"
        },
        "id": "g4_DutO-Gdv9",
        "outputId": "bc009f11-3afa-44aa-aabb-444ef66198d5"
      },
      "source": [
        "from sklearn.linear_model import Ridge\n",
        "ridge_reg=Ridge(alpha=1,solver=\"cholesky\")\n",
        "ridge_reg.fit(x,y)\n"
      ],
      "execution_count": null,
      "outputs": [
        {
          "output_type": "execute_result",
          "data": {
            "text/plain": [
              "Ridge(alpha=1, copy_X=True, fit_intercept=True, max_iter=None, normalize=False,\n",
              "      random_state=None, solver='cholesky', tol=0.001)"
            ]
          },
          "metadata": {
            "tags": []
          },
          "execution_count": 98
        }
      ]
    },
    {
      "cell_type": "code",
      "metadata": {
        "colab": {
          "base_uri": "https://localhost:8080/"
        },
        "id": "dRKcX8OtG44W",
        "outputId": "7f921cd7-053f-44af-f04f-d2e23a1588a7"
      },
      "source": [
        "ridge_reg.predict([[1.5]])"
      ],
      "execution_count": null,
      "outputs": [
        {
          "output_type": "execute_result",
          "data": {
            "text/plain": [
              "array([[3.5787821]])"
            ]
          },
          "metadata": {
            "tags": []
          },
          "execution_count": 99
        }
      ]
    },
    {
      "cell_type": "code",
      "metadata": {
        "colab": {
          "base_uri": "https://localhost:8080/"
        },
        "id": "n_kmCgh3HhjS",
        "outputId": "ffc7ef26-08e1-40b2-e9f9-759ddc2eea7a"
      },
      "source": [
        "# Check result using sgd \n",
        "from sklearn.linear_model import SGDRegressor\n",
        "sgd_reg=SGDRegressor(penalty=\"l2\")\n",
        "sgd_reg.fit(x,y.ravel())"
      ],
      "execution_count": null,
      "outputs": [
        {
          "output_type": "execute_result",
          "data": {
            "text/plain": [
              "SGDRegressor(alpha=0.0001, average=False, early_stopping=False, epsilon=0.1,\n",
              "             eta0=0.01, fit_intercept=True, l1_ratio=0.15,\n",
              "             learning_rate='invscaling', loss='squared_loss', max_iter=1000,\n",
              "             n_iter_no_change=5, penalty='l2', power_t=0.25, random_state=None,\n",
              "             shuffle=True, tol=0.001, validation_fraction=0.1, verbose=0,\n",
              "             warm_start=False)"
            ]
          },
          "metadata": {
            "tags": []
          },
          "execution_count": 100
        }
      ]
    },
    {
      "cell_type": "code",
      "metadata": {
        "colab": {
          "base_uri": "https://localhost:8080/"
        },
        "id": "O1QbJK-WIGXN",
        "outputId": "10a1c536-ef43-44c6-cea0-62c16c8b4146"
      },
      "source": [
        "sgd_reg.predict([[1.5]])"
      ],
      "execution_count": null,
      "outputs": [
        {
          "output_type": "execute_result",
          "data": {
            "text/plain": [
              "array([3.45704784])"
            ]
          },
          "metadata": {
            "tags": []
          },
          "execution_count": 101
        }
      ]
    },
    {
      "cell_type": "markdown",
      "metadata": {
        "id": "JXXGRpxqIYt-"
      },
      "source": [
        "# Lasso regression"
      ]
    },
    {
      "cell_type": "code",
      "metadata": {
        "colab": {
          "base_uri": "https://localhost:8080/"
        },
        "id": "A9AaMkx6Onk8",
        "outputId": "8bbbaa6f-829a-4df2-c526-0db814f7d672"
      },
      "source": [
        "from sklearn.linear_model import Lasso\n",
        "lasso_reg=Lasso(alpha=0.1)\n",
        "lasso_reg.fit(x,y)"
      ],
      "execution_count": null,
      "outputs": [
        {
          "output_type": "execute_result",
          "data": {
            "text/plain": [
              "Lasso(alpha=0.1, copy_X=True, fit_intercept=True, max_iter=1000,\n",
              "      normalize=False, positive=False, precompute=False, random_state=None,\n",
              "      selection='cyclic', tol=0.0001, warm_start=False)"
            ]
          },
          "metadata": {
            "tags": []
          },
          "execution_count": 102
        }
      ]
    },
    {
      "cell_type": "code",
      "metadata": {
        "colab": {
          "base_uri": "https://localhost:8080/"
        },
        "id": "_9rIZ3rwO34U",
        "outputId": "b903a2f5-d781-4708-c5f8-c06363d6ca99"
      },
      "source": [
        "lasso_reg.predict([[1.5]])"
      ],
      "execution_count": null,
      "outputs": [
        {
          "output_type": "execute_result",
          "data": {
            "text/plain": [
              "array([3.58828209])"
            ]
          },
          "metadata": {
            "tags": []
          },
          "execution_count": 103
        }
      ]
    },
    {
      "cell_type": "code",
      "metadata": {
        "colab": {
          "base_uri": "https://localhost:8080/"
        },
        "id": "VROR7LVHO-PU",
        "outputId": "68ee989f-473e-41bf-e82b-1e9ad657fae4"
      },
      "source": [
        "# You can also use SGDRegression with penalty =l1 \n",
        "sgd_reg=SGDRegressor(penalty=\"l1\")\n",
        "sgd_reg.fit(x,y.ravel())\n"
      ],
      "execution_count": null,
      "outputs": [
        {
          "output_type": "execute_result",
          "data": {
            "text/plain": [
              "SGDRegressor(alpha=0.0001, average=False, early_stopping=False, epsilon=0.1,\n",
              "             eta0=0.01, fit_intercept=True, l1_ratio=0.15,\n",
              "             learning_rate='invscaling', loss='squared_loss', max_iter=1000,\n",
              "             n_iter_no_change=5, penalty='l1', power_t=0.25, random_state=None,\n",
              "             shuffle=True, tol=0.001, validation_fraction=0.1, verbose=0,\n",
              "             warm_start=False)"
            ]
          },
          "metadata": {
            "tags": []
          },
          "execution_count": 104
        }
      ]
    },
    {
      "cell_type": "code",
      "metadata": {
        "colab": {
          "base_uri": "https://localhost:8080/"
        },
        "id": "phqggcPgPRae",
        "outputId": "3e2060a3-4e6e-47a9-a8d7-202a4f0c991b"
      },
      "source": [
        "sgd_reg.predict([[1.5]])"
      ],
      "execution_count": null,
      "outputs": [
        {
          "output_type": "execute_result",
          "data": {
            "text/plain": [
              "array([3.50724137])"
            ]
          },
          "metadata": {
            "tags": []
          },
          "execution_count": 105
        }
      ]
    },
    {
      "cell_type": "markdown",
      "metadata": {
        "id": "rMt2QhKuPS8X"
      },
      "source": [
        "# Elastic Net "
      ]
    },
    {
      "cell_type": "code",
      "metadata": {
        "colab": {
          "base_uri": "https://localhost:8080/"
        },
        "id": "AnQlxsakQ8bF",
        "outputId": "7105cbe9-9e46-4310-f945-b9134b1b05d7"
      },
      "source": [
        "from sklearn.linear_model import ElasticNet\n",
        "net_reg=ElasticNet(alpha=0.1,l1_ratio=0.5)\n",
        "net_reg.fit(x,y)"
      ],
      "execution_count": null,
      "outputs": [
        {
          "output_type": "execute_result",
          "data": {
            "text/plain": [
              "ElasticNet(alpha=0.1, copy_X=True, fit_intercept=True, l1_ratio=0.5,\n",
              "           max_iter=1000, normalize=False, positive=False, precompute=False,\n",
              "           random_state=None, selection='cyclic', tol=0.0001, warm_start=False)"
            ]
          },
          "metadata": {
            "tags": []
          },
          "execution_count": 106
        }
      ]
    },
    {
      "cell_type": "code",
      "metadata": {
        "colab": {
          "base_uri": "https://localhost:8080/"
        },
        "id": "Y8DeLBDrROFk",
        "outputId": "fb71994a-c7c0-469c-9214-bdee4ad17aaf"
      },
      "source": [
        "net_reg.predict([[1.5]])"
      ],
      "execution_count": null,
      "outputs": [
        {
          "output_type": "execute_result",
          "data": {
            "text/plain": [
              "array([3.58360092])"
            ]
          },
          "metadata": {
            "tags": []
          },
          "execution_count": 107
        }
      ]
    },
    {
      "cell_type": "markdown",
      "metadata": {
        "id": "O7jcL9X-RQru"
      },
      "source": [
        "# Early Stopping "
      ]
    },
    {
      "cell_type": "code",
      "metadata": {
        "id": "pCDaRVkpRlEk"
      },
      "source": [
        "# prepare the data\n",
        "from sklearn.preprocessing import StandardScaler\n",
        "poly_scaler = Pipeline([\n",
        "(\"poly_features\", PolynomialFeatures(degree=90, include_bias=False)),\n",
        "(\"std_scaler\", StandardScaler())\n",
        "])"
      ],
      "execution_count": null,
      "outputs": []
    },
    {
      "cell_type": "code",
      "metadata": {
        "id": "PdOEsw7kTVTB"
      },
      "source": [
        "x_train,x_val,y_train,y_val=train_test_split(x,y,test_size=0.2)\n",
        "X_train_poly_scaled = poly_scaler.fit_transform(x_train)\n",
        "X_val_poly_scaled = poly_scaler.transform(x_val)\n",
        "sgd_reg = SGDRegressor(max_iter=1, tol=-np.infty, warm_start=True,penalty=None, learning_rate=\"constant\", eta0=0.0005)"
      ],
      "execution_count": null,
      "outputs": []
    },
    {
      "cell_type": "code",
      "metadata": {
        "id": "aACvh9ylTjmM"
      },
      "source": [
        "from sklearn.base import clone\n",
        "minimum_val_error = float(\"inf\")\n",
        "best_epoch = None\n",
        "best_model = None\n",
        "for epoch in range(1000):\n",
        "  sgd_reg.fit(X_train_poly_scaled, y_train.ravel()) # continues where it left off\n",
        "  y_val_predict = sgd_reg.predict(X_val_poly_scaled)\n",
        "  val_error = mean_squared_error(y_val, y_val_predict)\n",
        "  if val_error < minimum_val_error:\n",
        "    minimum_val_error = val_error\n",
        "    best_epoch = epoch\n",
        "    best_model = clone(sgd_reg)"
      ],
      "execution_count": null,
      "outputs": []
    },
    {
      "cell_type": "code",
      "metadata": {
        "colab": {
          "base_uri": "https://localhost:8080/"
        },
        "id": "j5WH3x7kIuJk",
        "outputId": "418ad3e8-5939-4033-fb57-b6f16ef9de3b"
      },
      "source": [
        "best_model"
      ],
      "execution_count": null,
      "outputs": [
        {
          "output_type": "execute_result",
          "data": {
            "text/plain": [
              "SGDRegressor(alpha=0.0001, average=False, early_stopping=False, epsilon=0.1,\n",
              "             eta0=0.0005, fit_intercept=True, l1_ratio=0.15,\n",
              "             learning_rate='constant', loss='squared_loss', max_iter=1,\n",
              "             n_iter_no_change=5, penalty=None, power_t=0.25, random_state=None,\n",
              "             shuffle=True, tol=-inf, validation_fraction=0.1, verbose=0,\n",
              "             warm_start=True)"
            ]
          },
          "metadata": {
            "tags": []
          },
          "execution_count": 111
        }
      ]
    },
    {
      "cell_type": "markdown",
      "metadata": {
        "id": "6QUvq0xWI6lB"
      },
      "source": [
        "# Decision Boundaries"
      ]
    },
    {
      "cell_type": "code",
      "metadata": {
        "id": "_oBP5w-dNAg5"
      },
      "source": [
        "from sklearn import datasets\n",
        "iris=datasets.load_iris()"
      ],
      "execution_count": null,
      "outputs": []
    },
    {
      "cell_type": "code",
      "metadata": {
        "colab": {
          "base_uri": "https://localhost:8080/"
        },
        "id": "H9sGfrarNLeS",
        "outputId": "6b549557-ed65-466c-e1c9-4f8320800fab"
      },
      "source": [
        "list(iris.keys())"
      ],
      "execution_count": null,
      "outputs": [
        {
          "output_type": "execute_result",
          "data": {
            "text/plain": [
              "['data', 'target', 'target_names', 'DESCR', 'feature_names', 'filename']"
            ]
          },
          "metadata": {
            "tags": []
          },
          "execution_count": 113
        }
      ]
    },
    {
      "cell_type": "code",
      "metadata": {
        "colab": {
          "base_uri": "https://localhost:8080/"
        },
        "id": "HZygNYTLNQcy",
        "outputId": "be57ca58-a490-4ec7-e8cf-d9f2d9ebcba5"
      },
      "source": [
        "iris[\"feature_names\"]"
      ],
      "execution_count": null,
      "outputs": [
        {
          "output_type": "execute_result",
          "data": {
            "text/plain": [
              "['sepal length (cm)',\n",
              " 'sepal width (cm)',\n",
              " 'petal length (cm)',\n",
              " 'petal width (cm)']"
            ]
          },
          "metadata": {
            "tags": []
          },
          "execution_count": 114
        }
      ]
    },
    {
      "cell_type": "code",
      "metadata": {
        "id": "NKrspUnNNZtI"
      },
      "source": [
        "X = iris[\"data\"][:, 3:] # petal width\n",
        "y = (iris[\"target\"] == 2).astype(np.int) # 1 if Iris-Virginica, else 0"
      ],
      "execution_count": null,
      "outputs": []
    },
    {
      "cell_type": "code",
      "metadata": {
        "colab": {
          "base_uri": "https://localhost:8080/"
        },
        "id": "xJWyxkVaNkSf",
        "outputId": "f098d7c4-3839-416b-9635-1f1a7cc8ced7"
      },
      "source": [
        "from sklearn.linear_model import LogisticRegression\n",
        "log_reg=LogisticRegression()\n",
        "log_reg.fit(X,y)"
      ],
      "execution_count": null,
      "outputs": [
        {
          "output_type": "execute_result",
          "data": {
            "text/plain": [
              "LogisticRegression(C=1.0, class_weight=None, dual=False, fit_intercept=True,\n",
              "                   intercept_scaling=1, l1_ratio=None, max_iter=100,\n",
              "                   multi_class='auto', n_jobs=None, penalty='l2',\n",
              "                   random_state=None, solver='lbfgs', tol=0.0001, verbose=0,\n",
              "                   warm_start=False)"
            ]
          },
          "metadata": {
            "tags": []
          },
          "execution_count": 116
        }
      ]
    },
    {
      "cell_type": "code",
      "metadata": {
        "colab": {
          "base_uri": "https://localhost:8080/",
          "height": 265
        },
        "id": "xyEmga1XNxDY",
        "outputId": "789576b5-1b35-485a-9caf-baeff7c77a8c"
      },
      "source": [
        "X_new = np.linspace(0, 3, 1000).reshape(-1, 1)\n",
        "y_proba = log_reg.predict_proba(X_new)\n",
        "plt.plot(X_new, y_proba[:, 1], \"g-\", label=\"Iris-Virginica\")\n",
        "plt.plot(X_new, y_proba[:, 0], \"b--\", label=\"Not Iris-Virginica\")\n",
        "plt.show()"
      ],
      "execution_count": null,
      "outputs": [
        {
          "output_type": "display_data",
          "data": {
            "image/png": "[encoded data removed]",
            "text/plain": [
              "<Figure size 432x288 with 1 Axes>"
            ]
          },
          "metadata": {
            "tags": [],
            "needs_background": "light"
          }
        }
      ]
    },
    {
      "cell_type": "code",
      "metadata": {
        "colab": {
          "base_uri": "https://localhost:8080/"
        },
        "id": "9pueONwsOAsI",
        "outputId": "798e426e-684d-497f-cdea-0824ae559583"
      },
      "source": [
        "log_reg.predict([[1.7], [1.5]])"
      ],
      "execution_count": null,
      "outputs": [
        {
          "output_type": "execute_result",
          "data": {
            "text/plain": [
              "array([1, 0])"
            ]
          },
          "metadata": {
            "tags": []
          },
          "execution_count": 118
        }
      ]
    }
  ]
}