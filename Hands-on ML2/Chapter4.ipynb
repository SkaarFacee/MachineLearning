{
  "nbformat": 4,
  "nbformat_minor": 0,
  "metadata": {
    "colab": {
      "name": "Chapter4.ipynb",
      "provenance": [],
      "authorship_tag": "ABX9TyP6b2ra//uA4eAp4NLpT6Zj",
      "include_colab_link": true
    },
    "kernelspec": {
      "name": "python3",
      "display_name": "Python 3"
    },
    "language_info": {
      "name": "python"
    }
  },
  "cells": [
    {
      "cell_type": "markdown",
      "metadata": {
        "id": "view-in-github",
        "colab_type": "text"
      },
      "source": [
        "<a href=\"https://colab.research.google.com/github/adiaux/MachineLearning/blob/main/Hands-on%20ML2/Chapter4.ipynb\" target=\"_parent\"><img src=\"https://colab.research.google.com/assets/colab-badge.svg\" alt=\"Open In Colab\"/></a>"
      ]
    },
    {
      "cell_type": "code",
      "metadata": {
        "id": "e67Q-O61ACaR"
      },
      "source": [
        "import numpy as np \n",
        "import matplotlib.pyplot as plt\n"
      ],
      "execution_count": null,
      "outputs": []
    },
    {
      "cell_type": "code",
      "metadata": {
        "id": "pIc4uLSgA3Ol"
      },
      "source": [
        "x=2*np.random.rand(100,1)\n",
        "y=3+3*np.random.rand(100,1)"
      ],
      "execution_count": null,
      "outputs": []
    },
    {
      "cell_type": "code",
      "metadata": {
        "id": "aJyGzZpFBI90"
      },
      "source": [
        "X_b = np.c_[np.ones((100, 1)), x]"
      ],
      "execution_count": null,
      "outputs": []
    },
    {
      "cell_type": "code",
      "metadata": {
        "id": "EJ2C5nhJB8Yz"
      },
      "source": [
        "x_b=np.stack((np.ones((100,1)).flatten().reshape(x.shape),x),axis=1).flatten().reshape(100,2)"
      ],
      "execution_count": null,
      "outputs": []
    },
    {
      "cell_type": "code",
      "metadata": {
        "id": "_2nanpz_BJf4"
      },
      "source": [
        "theta_best = np.linalg.inv(x_b.T.dot(x_b)).dot(x_b.T).dot(y)"
      ],
      "execution_count": null,
      "outputs": []
    },
    {
      "cell_type": "code",
      "metadata": {
        "colab": {
          "base_uri": "https://localhost:8080/"
        },
        "id": "VCif7n5-BstQ",
        "outputId": "48619bdf-c767-4962-b416-9c888d3d6b85"
      },
      "source": [
        "theta_best"
      ],
      "execution_count": null,
      "outputs": [
        {
          "output_type": "execute_result",
          "data": {
            "text/plain": [
              "array([[4.42155456],\n",
              "       [0.06856175]])"
            ]
          },
          "metadata": {
            "tags": []
          },
          "execution_count": 15
        }
      ]
    },
    {
      "cell_type": "code",
      "metadata": {
        "colab": {
          "base_uri": "https://localhost:8080/",
          "height": 282
        },
        "id": "ZXtWR5bHDluy",
        "outputId": "327fe373-91d3-4cd1-d6ff-ebfe02fd2c76"
      },
      "source": [
        "fig, ax = plt.subplots()\n",
        "ax.scatter(x,y)"
      ],
      "execution_count": null,
      "outputs": [
        {
          "output_type": "execute_result",
          "data": {
            "text/plain": [
              "<matplotlib.collections.PathCollection at 0x7f1d3e98e410>"
            ]
          },
          "metadata": {
            "tags": []
          },
          "execution_count": 16
        },
        {
          "output_type": "display_data",
          "data": {
            "image/png": "[encoded data removed]",
            "text/plain": [
              "<Figure size 432x288 with 1 Axes>"
            ]
          },
          "metadata": {
            "tags": [],
            "needs_background": "light"
          }
        }
      ]
    },
    {
      "cell_type": "code",
      "metadata": {
        "id": "Mn2uMGxNEShD"
      },
      "source": [
        "x_new=np.array([[0],[2]])\n",
        "x_new_b=np.stack((np.ones((2,1)),x_new),axis=1).flatten().reshape(2,2)"
      ],
      "execution_count": null,
      "outputs": []
    },
    {
      "cell_type": "code",
      "metadata": {
        "id": "D2PcbEzyG5b2"
      },
      "source": [
        "y_pred=x_new_b.dot(theta_best)"
      ],
      "execution_count": null,
      "outputs": []
    },
    {
      "cell_type": "code",
      "metadata": {
        "colab": {
          "base_uri": "https://localhost:8080/"
        },
        "id": "xVFUAGFpHQFM",
        "outputId": "44a012c0-38aa-4cb8-85cf-63e1173d849a"
      },
      "source": [
        "y_pred"
      ],
      "execution_count": null,
      "outputs": [
        {
          "output_type": "execute_result",
          "data": {
            "text/plain": [
              "array([[4.42155456],\n",
              "       [4.55867806]])"
            ]
          },
          "metadata": {
            "tags": []
          },
          "execution_count": 19
        }
      ]
    },
    {
      "cell_type": "code",
      "metadata": {
        "colab": {
          "base_uri": "https://localhost:8080/",
          "height": 282
        },
        "id": "HeTtKVLQHm2x",
        "outputId": "22384764-d308-44a9-f8cb-525856d57371"
      },
      "source": [
        "plt.plot(x_new, y_pred, \"r-\")\n",
        "plt.plot(x, y, \"b.\")"
      ],
      "execution_count": null,
      "outputs": [
        {
          "output_type": "execute_result",
          "data": {
            "text/plain": [
              "[<matplotlib.lines.Line2D at 0x7f1d3e8dd610>]"
            ]
          },
          "metadata": {
            "tags": []
          },
          "execution_count": 20
        },
        {
          "output_type": "display_data",
          "data": {
            "image/png": "[encoded data removed]",
            "text/plain": [
              "<Figure size 432x288 with 1 Axes>"
            ]
          },
          "metadata": {
            "tags": [],
            "needs_background": "light"
          }
        }
      ]
    },
    {
      "cell_type": "markdown",
      "metadata": {
        "id": "7svgn8ScHuA3"
      },
      "source": [
        "# Performing Linera Regression on the same set"
      ]
    },
    {
      "cell_type": "code",
      "metadata": {
        "id": "Squsa3_BH4nd"
      },
      "source": [
        "from sklearn.linear_model import LinearRegression"
      ],
      "execution_count": null,
      "outputs": []
    },
    {
      "cell_type": "code",
      "metadata": {
        "colab": {
          "base_uri": "https://localhost:8080/"
        },
        "id": "EOg0DpjxJQEy",
        "outputId": "5e5414ff-ba88-41b7-8fac-5a70b7f4b116"
      },
      "source": [
        "lin_clf=LinearRegression()\n",
        "lin_clf.fit(x,y)"
      ],
      "execution_count": null,
      "outputs": [
        {
          "output_type": "execute_result",
          "data": {
            "text/plain": [
              "LinearRegression(copy_X=True, fit_intercept=True, n_jobs=None, normalize=False)"
            ]
          },
          "metadata": {
            "tags": []
          },
          "execution_count": 22
        }
      ]
    },
    {
      "cell_type": "code",
      "metadata": {
        "colab": {
          "base_uri": "https://localhost:8080/"
        },
        "id": "GMXdgV2oJaYq",
        "outputId": "8528c3ab-c416-48a8-a347-8e1537bbb926"
      },
      "source": [
        "lin_clf.predict(x_new)"
      ],
      "execution_count": null,
      "outputs": [
        {
          "output_type": "execute_result",
          "data": {
            "text/plain": [
              "array([[4.42155456],\n",
              "       [4.55867806]])"
            ]
          },
          "metadata": {
            "tags": []
          },
          "execution_count": 23
        }
      ]
    },
    {
      "cell_type": "code",
      "metadata": {
        "id": "qZiXIx3dJfOT"
      },
      "source": [
        "theta_best_svd, residuals, rank, s = np.linalg.lstsq(x_b, y, rcond=1e-6)"
      ],
      "execution_count": null,
      "outputs": []
    },
    {
      "cell_type": "code",
      "metadata": {
        "colab": {
          "base_uri": "https://localhost:8080/"
        },
        "id": "mgqfMFhGKVTW",
        "outputId": "87152dd0-a37d-46b3-aa7c-936b6800c0ad"
      },
      "source": [
        "theta_best_svd"
      ],
      "execution_count": null,
      "outputs": [
        {
          "output_type": "execute_result",
          "data": {
            "text/plain": [
              "array([[4.42155456],\n",
              "       [0.06856175]])"
            ]
          },
          "metadata": {
            "tags": []
          },
          "execution_count": 25
        }
      ]
    },
    {
      "cell_type": "code",
      "metadata": {
        "colab": {
          "base_uri": "https://localhost:8080/"
        },
        "id": "WqpV2pZsKZ73",
        "outputId": "a8aa3960-3248-4d87-da59-34ff65068253"
      },
      "source": [
        "np.linalg.pinv(X_b).dot(y)"
      ],
      "execution_count": null,
      "outputs": [
        {
          "output_type": "execute_result",
          "data": {
            "text/plain": [
              "array([[4.42155456],\n",
              "       [0.06856175]])"
            ]
          },
          "metadata": {
            "tags": []
          },
          "execution_count": 26
        }
      ]
    },
    {
      "cell_type": "markdown",
      "metadata": {
        "id": "OY-R-B4Savvo"
      },
      "source": [
        "# Gradient Descent "
      ]
    },
    {
      "cell_type": "code",
      "metadata": {
        "id": "FkEYPvv8KeKJ"
      },
      "source": [
        "eta=0.1\n",
        "n_iterations=1000\n",
        "m=100"
      ],
      "execution_count": null,
      "outputs": []
    },
    {
      "cell_type": "code",
      "metadata": {
        "id": "F-309J1hdXsi"
      },
      "source": [
        "theta=np.random.randn(2,1)"
      ],
      "execution_count": null,
      "outputs": []
    },
    {
      "cell_type": "code",
      "metadata": {
        "id": "yv8WVXb0de32"
      },
      "source": [
        "for iteration in range(n_iterations):\n",
        "  gradients=2/m*x_b.T.dot(x_b.dot(theta)-y)\n",
        "  theta=theta-eta*gradients"
      ],
      "execution_count": null,
      "outputs": []
    },
    {
      "cell_type": "code",
      "metadata": {
        "colab": {
          "base_uri": "https://localhost:8080/"
        },
        "id": "ld12QvU3dfIb",
        "outputId": "78a95a29-bbaf-4910-99be-a1f3a00f38d6"
      },
      "source": [
        "theta"
      ],
      "execution_count": null,
      "outputs": [
        {
          "output_type": "execute_result",
          "data": {
            "text/plain": [
              "array([[4.42155456],\n",
              "       [0.06856175]])"
            ]
          },
          "metadata": {
            "tags": []
          },
          "execution_count": 30
        }
      ]
    },
    {
      "cell_type": "markdown",
      "metadata": {
        "id": "rY6xnOy1eClH"
      },
      "source": [
        "# Stochastic Gradient Descent Basic"
      ]
    },
    {
      "cell_type": "code",
      "metadata": {
        "id": "D4UBZK5ypMRj"
      },
      "source": [
        "n_epochs = 50\n",
        "t0, t1 = 5, 50 # learning schedule hyperparameters\n",
        "def learning_schedule(t):\n",
        "  return t0 / (t + t1)\n",
        "theta = np.random.randn(2,1) # random initialization\n",
        "for epoch in range(n_epochs):\n",
        "  for i in range(m):\n",
        "    random_index = np.random.randint(m)\n",
        "    xi,yi,gradients = X_b[random_index:random_index+1],y[random_index:random_index+1],2 * xi.T.dot(xi.dot(theta) - yi)\n",
        "    eta = learning_schedule(epoch * m + i)\n",
        "    theta = theta - eta * gradients"
      ],
      "execution_count": null,
      "outputs": []
    },
    {
      "cell_type": "code",
      "metadata": {
        "colab": {
          "base_uri": "https://localhost:8080/"
        },
        "id": "aZB50BIgsJCI",
        "outputId": "622832a8-38c6-4bd9-cecd-91c4bd61853c"
      },
      "source": [
        "theta"
      ],
      "execution_count": null,
      "outputs": [
        {
          "output_type": "execute_result",
          "data": {
            "text/plain": [
              "array([[4.43746163],\n",
              "       [0.08946512]])"
            ]
          },
          "metadata": {
            "tags": []
          },
          "execution_count": 36
        }
      ]
    },
    {
      "cell_type": "markdown",
      "metadata": {
        "id": "C0H6vHvZp-41"
      },
      "source": [
        "# Stochastic Gradient Descent Using sklearn"
      ]
    },
    {
      "cell_type": "code",
      "metadata": {
        "colab": {
          "base_uri": "https://localhost:8080/"
        },
        "id": "WUAY5Q6Lr4N6",
        "outputId": "5c8aa00c-5f77-4cfb-e500-c8fee8faf0ca"
      },
      "source": [
        "from sklearn.linear_model import SGDRegressor\n",
        "sgd_reg = SGDRegressor(max_iter=1000, tol=1e-3, penalty=None, eta0=0.1)\n",
        "sgd_reg.fit(x, y.ravel())"
      ],
      "execution_count": null,
      "outputs": [
        {
          "output_type": "execute_result",
          "data": {
            "text/plain": [
              "SGDRegressor(alpha=0.0001, average=False, early_stopping=False, epsilon=0.1,\n",
              "             eta0=0.1, fit_intercept=True, l1_ratio=0.15,\n",
              "             learning_rate='invscaling', loss='squared_loss', max_iter=1000,\n",
              "             n_iter_no_change=5, penalty=None, power_t=0.25, random_state=None,\n",
              "             shuffle=True, tol=0.001, validation_fraction=0.1, verbose=0,\n",
              "             warm_start=False)"
            ]
          },
          "metadata": {
            "tags": []
          },
          "execution_count": 37
        }
      ]
    },
    {
      "cell_type": "code",
      "metadata": {
        "colab": {
          "base_uri": "https://localhost:8080/"
        },
        "id": "1t6yXsF1r7KW",
        "outputId": "0d6bb229-a2fd-4de3-817d-66b1bdc77018"
      },
      "source": [
        "sgd_reg.intercept_,sgd_reg.coef_"
      ],
      "execution_count": null,
      "outputs": [
        {
          "output_type": "execute_result",
          "data": {
            "text/plain": [
              "(array([4.42055072]), array([0.18846246]))"
            ]
          },
          "metadata": {
            "tags": []
          },
          "execution_count": 38
        }
      ]
    },
    {
      "cell_type": "markdown",
      "metadata": {
        "id": "UJKBY1mtsFY5"
      },
      "source": [
        "# Polynomial regresssion"
      ]
    },
    {
      "cell_type": "code",
      "metadata": {
        "id": "tFiDrLTZsQCH"
      },
      "source": [
        "m,x,y=100,6*np.random.randn(m,1)-3,0.5*+x**2+x+2+np.random.randn(m,1)"
      ],
      "execution_count": null,
      "outputs": []
    },
    {
      "cell_type": "code",
      "metadata": {
        "id": "BjieMo0b0cOV"
      },
      "source": [
        "from sklearn.preprocessing import PolynomialFeatures\n",
        "poly_features=PolynomialFeatures(degree=2,include_bias=False)\n",
        "x_poly=poly_features.fit_transform(x)"
      ],
      "execution_count": null,
      "outputs": []
    },
    {
      "cell_type": "code",
      "metadata": {
        "colab": {
          "base_uri": "https://localhost:8080/"
        },
        "id": "in-FVnqM03yg",
        "outputId": "0441c27d-9399-4adb-9837-838c27b0f6cb"
      },
      "source": [
        "x[0]"
      ],
      "execution_count": null,
      "outputs": [
        {
          "output_type": "execute_result",
          "data": {
            "text/plain": [
              "array([-13.78773233])"
            ]
          },
          "metadata": {
            "tags": []
          },
          "execution_count": 48
        }
      ]
    },
    {
      "cell_type": "code",
      "metadata": {
        "colab": {
          "base_uri": "https://localhost:8080/"
        },
        "id": "BqMKHzp-04bv",
        "outputId": "d41508b8-2ccb-42c7-c766-581e75ca5848"
      },
      "source": [
        "x_poly[0]"
      ],
      "execution_count": null,
      "outputs": [
        {
          "output_type": "execute_result",
          "data": {
            "text/plain": [
              "array([-13.78773233, 190.10156273])"
            ]
          },
          "metadata": {
            "tags": []
          },
          "execution_count": 49
        }
      ]
    },
    {
      "cell_type": "code",
      "metadata": {
        "colab": {
          "base_uri": "https://localhost:8080/"
        },
        "id": "XJIPNM2h07tL",
        "outputId": "d57c9a26-e14d-4ee9-b9f9-55f11bdd5e3b"
      },
      "source": [
        "lin_reg=LinearRegression()\n",
        "lin_reg.fit(x_poly,y)"
      ],
      "execution_count": null,
      "outputs": [
        {
          "output_type": "execute_result",
          "data": {
            "text/plain": [
              "LinearRegression(copy_X=True, fit_intercept=True, n_jobs=None, normalize=False)"
            ]
          },
          "metadata": {
            "tags": []
          },
          "execution_count": 50
        }
      ]
    },
    {
      "cell_type": "code",
      "metadata": {
        "colab": {
          "base_uri": "https://localhost:8080/"
        },
        "id": "LW18HkJg1MIe",
        "outputId": "6c461a2b-9f1d-4075-9d72-142d3cc80d79"
      },
      "source": [
        "lin_reg.coef_,lin_reg.intercept_"
      ],
      "execution_count": null,
      "outputs": [
        {
          "output_type": "execute_result",
          "data": {
            "text/plain": [
              "(array([[0.02213007, 0.00267161]]), array([3.46917458]))"
            ]
          },
          "metadata": {
            "tags": []
          },
          "execution_count": 51
        }
      ]
    },
    {
      "cell_type": "markdown",
      "metadata": {
        "id": "XZWvU63X1ef4"
      },
      "source": [
        "# Learning Curve"
      ]
    },
    {
      "cell_type": "code",
      "metadata": {
        "id": "ZeK5qSLS1_v-"
      },
      "source": [
        "from sklearn.metrics import mean_squared_error\n",
        "from sklearn.model_selection import train_test_split\n",
        "def plot_learning_curve(model,x,y):\n",
        "  x_train,x_val,y_train,y_val=train_test_split(x,y,test_size=0.2)\n",
        "  train_errors,val_errors=[],[]\n",
        "  for m in range(1,len(x_train)):\n",
        "    model.fit(x_train[:m],y_train[:m])\n",
        "    y_train_pred=model.predict(x_train[:m])\n",
        "    y_val_pred=model.predict(x_val)\n",
        "    train_errors.append(mean_squared_error(y_train[:m], y_train_pred))\n",
        "    val_errors.append(mean_squared_error(y_val, y_val_pred))\n",
        "  plt.plot(np.sqrt(train_errors), \"r-+\", linewidth=2, label=\"train\")\n",
        "  plt.plot(np.sqrt(val_errors), \"b-\", linewidth=3, label=\"val\")"
      ],
      "execution_count": null,
      "outputs": []
    },
    {
      "cell_type": "code",
      "metadata": {
        "colab": {
          "base_uri": "https://localhost:8080/",
          "height": 265
        },
        "id": "bj84QKj25DAW",
        "outputId": "4445d959-a1fb-41e4-e364-158a9e5aa8e6"
      },
      "source": [
        "lin_reg = LinearRegression()\n",
        "plot_learning_curve(lin_reg, x, y)"
      ],
      "execution_count": null,
      "outputs": [
        {
          "output_type": "display_data",
          "data": {
            "image/png": "[encoded data removed]",
            "text/plain": [
              "<Figure size 432x288 with 1 Axes>"
            ]
          },
          "metadata": {
            "tags": [],
            "needs_background": "light"
          }
        }
      ]
    },
    {
      "cell_type": "code",
      "metadata": {
        "colab": {
          "base_uri": "https://localhost:8080/",
          "height": 265
        },
        "id": "22lK0QiM5FOB",
        "outputId": "85978fd4-7228-4e04-fa0b-050fcc06d6df"
      },
      "source": [
        "from sklearn.pipeline import Pipeline\n",
        "polynomial_regression = Pipeline([\n",
        "(\"poly_features\", PolynomialFeatures(degree=10, include_bias=False)),\n",
        "(\"lin_reg\", LinearRegression()),])\n",
        "plot_learning_curve(polynomial_regression, x, y)"
      ],
      "execution_count": null,
      "outputs": [
        {
          "output_type": "display_data",
          "data": {
            "image/png": "[encoded data removed]",
            "text/plain": [
              "<Figure size 432x288 with 1 Axes>"
            ]
          },
          "metadata": {
            "tags": [],
            "needs_background": "light"
          }
        }
      ]
    },
    {
      "cell_type": "code",
      "metadata": {
        "id": "qH0CxETV9r9K"
      },
      "source": [
        ""
      ],
      "execution_count": null,
      "outputs": []
    }
  ]
}