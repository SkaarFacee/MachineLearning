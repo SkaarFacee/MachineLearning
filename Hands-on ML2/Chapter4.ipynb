{
  "nbformat": 4,
  "nbformat_minor": 0,
  "metadata": {
    "colab": {
      "name": "Chapter4.ipynb",
      "provenance": [],
      "authorship_tag": "ABX9TyOjce75pjmOvGlxhLag0Z5p"
    },
    "kernelspec": {
      "name": "python3",
      "display_name": "Python 3"
    },
    "language_info": {
      "name": "python"
    }
  },
  "cells": [
    {
      "cell_type": "code",
      "metadata": {
        "id": "e67Q-O61ACaR"
      },
      "source": [
        "import numpy as np "
      ],
      "execution_count": null,
      "outputs": []
    },
    {
      "cell_type": "code",
      "metadata": {
        "id": "pIc4uLSgA3Ol"
      },
      "source": [
        "x=2*np.random.rand(100,1)\n",
        "y=3+3*np.random.rand(100,1)"
      ],
      "execution_count": null,
      "outputs": []
    },
    {
      "cell_type": "code",
      "metadata": {
        "id": "aJyGzZpFBI90"
      },
      "source": [
        "X_b = np.c_[np.ones((100, 1)), x]"
      ],
      "execution_count": null,
      "outputs": []
    },
    {
      "cell_type": "code",
      "metadata": {
        "id": "EJ2C5nhJB8Yz"
      },
      "source": [
        "x_b=np.stack((np.ones((100,1)).flatten().reshape(x.shape),x),axis=1).flatten().reshape(100,2)"
      ],
      "execution_count": null,
      "outputs": []
    },
    {
      "cell_type": "code",
      "metadata": {
        "id": "_2nanpz_BJf4"
      },
      "source": [
        "theta_best = np.linalg.inv(x_b.T.dot(x_b)).dot(x_b.T).dot(y)"
      ],
      "execution_count": null,
      "outputs": []
    },
    {
      "cell_type": "code",
      "metadata": {
        "colab": {
          "base_uri": "https://localhost:8080/"
        },
        "id": "VCif7n5-BstQ",
        "outputId": "2cb4ddfb-3a7d-439e-93f8-b380bb3e2b33"
      },
      "source": [
        "theta_best"
      ],
      "execution_count": null,
      "outputs": [
        {
          "output_type": "execute_result",
          "data": {
            "text/plain": [
              "array([[4.33991732],\n",
              "       [0.09608844]])"
            ]
          },
          "metadata": {
            "tags": []
          },
          "execution_count": 77
        }
      ]
    },
    {
      "cell_type": "code",
      "metadata": {
        "colab": {
          "base_uri": "https://localhost:8080/",
          "height": 282
        },
        "id": "ZXtWR5bHDluy",
        "outputId": "67aa99e9-ef14-40ca-e333-e078713f2291"
      },
      "source": [
        "fig, ax = plt.subplots()\n",
        "ax.scatter(x,y)"
      ],
      "execution_count": null,
      "outputs": [
        {
          "output_type": "execute_result",
          "data": {
            "text/plain": [
              "<matplotlib.collections.PathCollection at 0x7facd7345e10>"
            ]
          },
          "metadata": {
            "tags": []
          },
          "execution_count": 78
        },
        {
          "output_type": "display_data",
          "data": {
            "image/png": "[encoded data removed]",
            "text/plain": [
              "<Figure size 432x288 with 1 Axes>"
            ]
          },
          "metadata": {
            "tags": [],
            "needs_background": "light"
          }
        }
      ]
    },
    {
      "cell_type": "code",
      "metadata": {
        "id": "Mn2uMGxNEShD"
      },
      "source": [
        "x_new=np.array([[0],[2]])\n",
        "x_new_b=np.stack((np.ones((2,1)),x_new),axis=1).flatten().reshape(2,2)"
      ],
      "execution_count": null,
      "outputs": []
    },
    {
      "cell_type": "code",
      "metadata": {
        "id": "D2PcbEzyG5b2"
      },
      "source": [
        "y_pred=x_new_b.dot(theta_best)"
      ],
      "execution_count": null,
      "outputs": []
    },
    {
      "cell_type": "code",
      "metadata": {
        "colab": {
          "base_uri": "https://localhost:8080/"
        },
        "id": "xVFUAGFpHQFM",
        "outputId": "93cf7f8e-df1a-42fb-8731-5fff8b49fdca"
      },
      "source": [
        "y_pred"
      ],
      "execution_count": null,
      "outputs": [
        {
          "output_type": "execute_result",
          "data": {
            "text/plain": [
              "array([[4.33991732],\n",
              "       [4.5320942 ]])"
            ]
          },
          "metadata": {
            "tags": []
          },
          "execution_count": 81
        }
      ]
    },
    {
      "cell_type": "code",
      "metadata": {
        "colab": {
          "base_uri": "https://localhost:8080/",
          "height": 282
        },
        "id": "HeTtKVLQHm2x",
        "outputId": "be6e1cd7-60bc-44d0-89ee-578ecde3c160"
      },
      "source": [
        "plt.plot(x_new, y_pred, \"r-\")\n",
        "plt.plot(x, y, \"b.\")"
      ],
      "execution_count": null,
      "outputs": [
        {
          "output_type": "execute_result",
          "data": {
            "text/plain": [
              "[<matplotlib.lines.Line2D at 0x7facd728aa10>]"
            ]
          },
          "metadata": {
            "tags": []
          },
          "execution_count": 82
        },
        {
          "output_type": "display_data",
          "data": {
            "image/png": "[encoded data removed]",
            "text/plain": [
              "<Figure size 432x288 with 1 Axes>"
            ]
          },
          "metadata": {
            "tags": [],
            "needs_background": "light"
          }
        }
      ]
    },
    {
      "cell_type": "markdown",
      "metadata": {
        "id": "7svgn8ScHuA3"
      },
      "source": [
        "# Performing Linera Regression on the same set"
      ]
    },
    {
      "cell_type": "code",
      "metadata": {
        "id": "Squsa3_BH4nd"
      },
      "source": [
        "from sklearn.linear_model import LinearRegression"
      ],
      "execution_count": null,
      "outputs": []
    },
    {
      "cell_type": "code",
      "metadata": {
        "colab": {
          "base_uri": "https://localhost:8080/"
        },
        "id": "EOg0DpjxJQEy",
        "outputId": "34d0f58a-bd9e-46a7-e509-ecd25c3b026d"
      },
      "source": [
        "lin_clf=LinearRegression()\n",
        "lin_clf.fit(x,y)"
      ],
      "execution_count": null,
      "outputs": [
        {
          "output_type": "execute_result",
          "data": {
            "text/plain": [
              "LinearRegression(copy_X=True, fit_intercept=True, n_jobs=None, normalize=False)"
            ]
          },
          "metadata": {
            "tags": []
          },
          "execution_count": 84
        }
      ]
    },
    {
      "cell_type": "code",
      "metadata": {
        "colab": {
          "base_uri": "https://localhost:8080/"
        },
        "id": "GMXdgV2oJaYq",
        "outputId": "237cafb1-16a5-4b18-d462-379b8e7a774e"
      },
      "source": [
        "lin_clf.predict(x_new)"
      ],
      "execution_count": null,
      "outputs": [
        {
          "output_type": "execute_result",
          "data": {
            "text/plain": [
              "array([[4.33991732],\n",
              "       [4.5320942 ]])"
            ]
          },
          "metadata": {
            "tags": []
          },
          "execution_count": 85
        }
      ]
    },
    {
      "cell_type": "code",
      "metadata": {
        "id": "qZiXIx3dJfOT"
      },
      "source": [
        "theta_best_svd, residuals, rank, s = np.linalg.lstsq(x_b, y, rcond=1e-6)"
      ],
      "execution_count": null,
      "outputs": []
    },
    {
      "cell_type": "code",
      "metadata": {
        "colab": {
          "base_uri": "https://localhost:8080/"
        },
        "id": "mgqfMFhGKVTW",
        "outputId": "5070fd3d-a790-4538-b4a5-487075d14085"
      },
      "source": [
        "theta_best_svd"
      ],
      "execution_count": null,
      "outputs": [
        {
          "output_type": "execute_result",
          "data": {
            "text/plain": [
              "array([[4.33991732],\n",
              "       [0.09608844]])"
            ]
          },
          "metadata": {
            "tags": []
          },
          "execution_count": 87
        }
      ]
    },
    {
      "cell_type": "code",
      "metadata": {
        "colab": {
          "base_uri": "https://localhost:8080/"
        },
        "id": "WqpV2pZsKZ73",
        "outputId": "0ead777b-3245-4c4a-d4b3-ed7512960922"
      },
      "source": [
        "np.linalg.pinv(X_b).dot(y)"
      ],
      "execution_count": null,
      "outputs": [
        {
          "output_type": "execute_result",
          "data": {
            "text/plain": [
              "array([[4.33991732],\n",
              "       [0.09608844]])"
            ]
          },
          "metadata": {
            "tags": []
          },
          "execution_count": 88
        }
      ]
    },
    {
      "cell_type": "markdown",
      "metadata": {
        "id": "OY-R-B4Savvo"
      },
      "source": [
        "# Gradient Descent "
      ]
    },
    {
      "cell_type": "code",
      "metadata": {
        "id": "FkEYPvv8KeKJ"
      },
      "source": [
        "eta=0.1\n",
        "n_iterations=1000\n",
        "m=100"
      ],
      "execution_count": null,
      "outputs": []
    },
    {
      "cell_type": "code",
      "metadata": {
        "id": "F-309J1hdXsi"
      },
      "source": [
        "theta=np.random.randn(2,1)"
      ],
      "execution_count": null,
      "outputs": []
    },
    {
      "cell_type": "code",
      "metadata": {
        "id": "yv8WVXb0de32"
      },
      "source": [
        "for iteration in range(n_iterations):\n",
        "  gradients=2/m*x_b.T.dot(x_b.dot(theta)-y)\n",
        "  theta=theta-eta*gradients"
      ],
      "execution_count": null,
      "outputs": []
    },
    {
      "cell_type": "code",
      "metadata": {
        "colab": {
          "base_uri": "https://localhost:8080/"
        },
        "id": "ld12QvU3dfIb",
        "outputId": "d3a63f92-5942-42f1-cef9-484d77d7d81b"
      },
      "source": [
        "theta"
      ],
      "execution_count": null,
      "outputs": [
        {
          "output_type": "execute_result",
          "data": {
            "text/plain": [
              "array([[4.33991732],\n",
              "       [0.09608844]])"
            ]
          },
          "metadata": {
            "tags": []
          },
          "execution_count": 92
        }
      ]
    },
    {
      "cell_type": "code",
      "metadata": {
        "id": "rY6xnOy1eClH"
      },
      "source": [
        ""
      ],
      "execution_count": null,
      "outputs": []
    }
  ]
}